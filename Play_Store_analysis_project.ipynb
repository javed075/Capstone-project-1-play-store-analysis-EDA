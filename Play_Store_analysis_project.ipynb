{
  "cells": [
    {
      "cell_type": "markdown",
      "metadata": {
        "id": "view-in-github",
        "colab_type": "text"
      },
      "source": [
        "<a href=\"https://colab.research.google.com/github/javed075/Capstone-project-1-play-store-analysis-EDA/blob/main/Play_Store_analysis_project.ipynb\" target=\"_parent\"><img src=\"https://colab.research.google.com/assets/colab-badge.svg\" alt=\"Open In Colab\"/></a>"
      ]
    },
    {
      "cell_type": "markdown",
      "source": [
        "#**Title Of The Project: \"Play Store App Review\"**"
      ],
      "metadata": {
        "id": "cAQHu0saPEIh"
      }
    },
    {
      "cell_type": "markdown",
      "source": [
        "##### **Project Type**    - EDA/Regression/Classification/Unsupervised\n",
        "##### **Contribution**    - Individual\n",
        "#BY-JAVED AHMAD   (javedahmad075@gmail.com)"
      ],
      "metadata": {
        "id": "aeUczTpkPU2d"
      }
    },
    {
      "cell_type": "markdown",
      "source": [
        "# **Project Summary -**\n",
        "\n",
        "Mobile apps are everywhere. They are easy to create and can be lucrative, because of these two factors, more and more apps are being developed. In this notebook, we will do a comprehensive analysis of the Android app market by comparing over ten thousand apps in Google play store   across different categories \n",
        "The Google play store app dataset consists of enormous data that can be used to create effective insights. There are various key factors that play a major role in the success & engagement from the user’s end. Our problem statement is quite inevitable in comparison with the present Google Play store App market. Upon doing several pieces of research it can be seen that every day around 3000+ apps is being added to the play store library. Therefore enormous datasets & variety of insights can be concluded for business improvements.\n",
        "\n",
        "In this EDA project we were provided with two datasets \n",
        "1.\tPlaystore.csv -> contains all the details of the applications of Google Play. There are 13 features that describe a given app.\n",
        "\n",
        "2.\tUser_reviews.csv -> contains 100 reviews for each app, most helpful first. The text in each review has been pre-processed and attributed with three new features\n",
        "\n",
        "\tSentiments (Positive, Negative, Neutral)\n",
        "\n",
        "\tSentiment Polarity\n",
        "\n",
        "\tSentiment Subjectivity\n",
        "\n",
        "At first, we break down the datasets by importing necessary library classes, followed by checking unique values, converting the data types to similar objects, removing special characters as the analysis demands & making the entire dataset ready for analyzing & plotting actionable insights.\n",
        "\n",
        "After examining null & missing values from the dataset we directly went deep into the visualization steps.\n",
        "\n",
        "Some insights on which we worked are as follows:\n",
        "\n",
        "\tTop Categories on Google Play store.\n",
        "\n",
        "\tWhich Category Content is  downloaded more?\n",
        "\n",
        "\tWhich category of apps has the most  number of installs?\n",
        "\n",
        "\tWhat are the Top installed Games?\n",
        "\n",
        "\tDistribution of the size of apps\n",
        "\n",
        "\tComparison between Free and Paid apps\n",
        "\n",
        "\tWhich category apps are expensive?\n",
        "\n",
        "\tDistribution of the Price of the apps\n",
        "\n",
        "\tWhich Categories  Apps with the highest  number of reviews?\n",
        "\n",
        "\n",
        "\n",
        "\n"
      ],
      "metadata": {
        "id": "o-p79Z7fQ-T5"
      }
    },
    {
      "cell_type": "markdown",
      "source": [
        "#**GitHub Link -** \n",
        "https://github.com/javed075/Capstone-project-1-play-store-analysis-EDA.git"
      ],
      "metadata": {
        "id": "OKRBJTCLVU0n"
      }
    },
    {
      "cell_type": "markdown",
      "source": [
        "# **Problem Statement**\n",
        "\n",
        "To explore and analyze the data to discover key factors responsible for app engagement and success. Our mission is to assist Android developers in understanding what is the motivating factor for people to download an app. Finding out what influences a person's decision to download an app will be helpful as well.\n",
        "\n",
        "For this reason, I would like to analyze installs, prices, ratings, reviews, and categories to see how they are connected"
      ],
      "metadata": {
        "id": "jsxnGYH9Vzh7"
      }
    },
    {
      "cell_type": "markdown",
      "source": [
        "#### **Business Objective-**\n",
        "There are several business objectives that can be achieved through the analysis of data from the Google Play Store. Some potential objectives include:\n",
        "\n",
        "Identifying trends in app downloads and usage: By analyzing data on app downloads and usage patterns, businesses can identify trends and opportunities in the app market. For example, they may discover that a particular type of app is gaining popularity and decide to develop a similar app to meet that demand.\n",
        "\n",
        "Analyzing user demographics: Businesses can use data from the Play Store to understand the demographics of their app users, including their age, gender, location, and interests. This can be useful for targeting marketing campaigns and tailoring the app experience to specific user segments.\n",
        "\n",
        "Improving app performance: By analyzing data on app crashes, user reviews, and other performance metrics, businesses can identify areas for improvement in their app and make changes to enhance the user experience.\n",
        "\n",
        "Identifying new monetization opportunities: By analyzing data on user behavior and engagement within an app, businesses can identify new opportunities to monetize their app, such as through in-app purchases or advertising.\n",
        "\n",
        "Overall, the analysis of data from the Play Store can help businesses better understand their app users and identify opportunities to improve and grow their app business.\n",
        "\n",
        "\n",
        "\n"
      ],
      "metadata": {
        "id": "laPURrOFWqqj"
      }
    },
    {
      "cell_type": "markdown",
      "source": [
        "# ***Let's Begin !***"
      ],
      "metadata": {
        "id": "n09YRygXcGUM"
      }
    },
    {
      "cell_type": "markdown",
      "source": [
        "## ***1. Know Your Data***"
      ],
      "metadata": {
        "id": "Ak8InAAEc3Wk"
      }
    },
    {
      "cell_type": "markdown",
      "source": [
        "###Import Libraries"
      ],
      "metadata": {
        "id": "Mf6N_cWVdCL7"
      }
    },
    {
      "cell_type": "code",
      "source": [
        "import pandas as pd\n",
        "import numpy as np\n",
        "import matplotlib.pyplot as plt\n",
        "import seaborn as sns\n"
      ],
      "metadata": {
        "id": "sDgX_cXNZFYE"
      },
      "execution_count": 1,
      "outputs": []
    },
    {
      "cell_type": "markdown",
      "source": [
        "### Dataset Loading"
      ],
      "metadata": {
        "id": "bWftaLGJf3gu"
      }
    },
    {
      "cell_type": "code",
      "source": [
        "# first mount the google drive\n",
        "from google.colab import drive\n",
        "drive.mount('/content/drive')"
      ],
      "metadata": {
        "id": "8nB5kEakYc8U",
        "colab": {
          "base_uri": "https://localhost:8080/"
        },
        "outputId": "4b915a4f-b328-4c34-defb-5ae6a911a03e"
      },
      "execution_count": 2,
      "outputs": [
        {
          "output_type": "stream",
          "name": "stdout",
          "text": [
            "Mounted at /content/drive\n"
          ]
        }
      ]
    },
    {
      "cell_type": "markdown",
      "source": [
        "###Upload the two Dataset csv file."
      ],
      "metadata": {
        "id": "W8xyUIf3HKuE"
      }
    },
    {
      "cell_type": "code",
      "source": [
        "play_store_analysis=pd.read_csv('/content/drive/MyDrive/Almabetter/Project Play store analysis analysis/Play Store Data.csv')"
      ],
      "metadata": {
        "id": "ZCgkB0o2Ypp6"
      },
      "execution_count": 3,
      "outputs": []
    },
    {
      "cell_type": "code",
      "source": [
        "User_Reviews=pd.read_csv('/content/drive/MyDrive/Almabetter/Project Play store analysis analysis/User Reviews.csv')"
      ],
      "metadata": {
        "id": "RX9dvGAVaG55"
      },
      "execution_count": 4,
      "outputs": []
    },
    {
      "cell_type": "markdown",
      "source": [
        "###Make a copy of both data set"
      ],
      "metadata": {
        "id": "bJ90nIWX6JQt"
      }
    },
    {
      "cell_type": "code",
      "source": [
        "df=play_store_analysis.copy()\n",
        "df1=User_Reviews.copy()"
      ],
      "metadata": {
        "id": "i6Mv8he66cE1"
      },
      "execution_count": 5,
      "outputs": []
    },
    {
      "cell_type": "markdown",
      "source": [
        "Making copy:- It is important to make a copy of the main data frame before any of the proccessing, as it prevents any permanent modification in main data frame in the proccess of EDA."
      ],
      "metadata": {
        "id": "Quf7Ui9Kmg3e"
      }
    },
    {
      "cell_type": "markdown",
      "source": [
        "##first deep dive in to play store analysis data set"
      ],
      "metadata": {
        "id": "t9e7oC4TiDW6"
      }
    },
    {
      "cell_type": "markdown",
      "source": [
        "### Dataset First View\n",
        "\n"
      ],
      "metadata": {
        "id": "VqzSrbdoFr5D"
      }
    },
    {
      "cell_type": "code",
      "source": [
        "# top 5 rows \n",
        "df.head()"
      ],
      "metadata": {
        "colab": {
          "base_uri": "https://localhost:8080/",
          "height": 354
        },
        "id": "-I7-OV4eZi9p",
        "outputId": "707c465d-9366-43d1-8ace-353fa937fe38"
      },
      "execution_count": null,
      "outputs": [
        {
          "output_type": "execute_result",
          "data": {
            "text/plain": [
              "                                                 App        Category  Rating  \\\n",
              "0     Photo Editor & Candy Camera & Grid & ScrapBook  ART_AND_DESIGN     4.1   \n",
              "1                                Coloring book moana  ART_AND_DESIGN     3.9   \n",
              "2  U Launcher Lite – FREE Live Cool Themes, Hide ...  ART_AND_DESIGN     4.7   \n",
              "3                              Sketch - Draw & Paint  ART_AND_DESIGN     4.5   \n",
              "4              Pixel Draw - Number Art Coloring Book  ART_AND_DESIGN     4.3   \n",
              "\n",
              "  Reviews  Size     Installs  Type Price Content Rating  \\\n",
              "0     159   19M      10,000+  Free     0       Everyone   \n",
              "1     967   14M     500,000+  Free     0       Everyone   \n",
              "2   87510  8.7M   5,000,000+  Free     0       Everyone   \n",
              "3  215644   25M  50,000,000+  Free     0           Teen   \n",
              "4     967  2.8M     100,000+  Free     0       Everyone   \n",
              "\n",
              "                      Genres      Last Updated         Current Ver  \\\n",
              "0               Art & Design   January 7, 2018               1.0.0   \n",
              "1  Art & Design;Pretend Play  January 15, 2018               2.0.0   \n",
              "2               Art & Design    August 1, 2018               1.2.4   \n",
              "3               Art & Design      June 8, 2018  Varies with device   \n",
              "4    Art & Design;Creativity     June 20, 2018                 1.1   \n",
              "\n",
              "    Android Ver  \n",
              "0  4.0.3 and up  \n",
              "1  4.0.3 and up  \n",
              "2  4.0.3 and up  \n",
              "3    4.2 and up  \n",
              "4    4.4 and up  "
            ],
            "text/html": [
              "\n",
              "  <div id=\"df-63f8602e-9a56-4dc4-bea0-bd86f90e8a7d\">\n",
              "    <div class=\"colab-df-container\">\n",
              "      <div>\n",
              "<style scoped>\n",
              "    .dataframe tbody tr th:only-of-type {\n",
              "        vertical-align: middle;\n",
              "    }\n",
              "\n",
              "    .dataframe tbody tr th {\n",
              "        vertical-align: top;\n",
              "    }\n",
              "\n",
              "    .dataframe thead th {\n",
              "        text-align: right;\n",
              "    }\n",
              "</style>\n",
              "<table border=\"1\" class=\"dataframe\">\n",
              "  <thead>\n",
              "    <tr style=\"text-align: right;\">\n",
              "      <th></th>\n",
              "      <th>App</th>\n",
              "      <th>Category</th>\n",
              "      <th>Rating</th>\n",
              "      <th>Reviews</th>\n",
              "      <th>Size</th>\n",
              "      <th>Installs</th>\n",
              "      <th>Type</th>\n",
              "      <th>Price</th>\n",
              "      <th>Content Rating</th>\n",
              "      <th>Genres</th>\n",
              "      <th>Last Updated</th>\n",
              "      <th>Current Ver</th>\n",
              "      <th>Android Ver</th>\n",
              "    </tr>\n",
              "  </thead>\n",
              "  <tbody>\n",
              "    <tr>\n",
              "      <th>0</th>\n",
              "      <td>Photo Editor &amp; Candy Camera &amp; Grid &amp; ScrapBook</td>\n",
              "      <td>ART_AND_DESIGN</td>\n",
              "      <td>4.1</td>\n",
              "      <td>159</td>\n",
              "      <td>19M</td>\n",
              "      <td>10,000+</td>\n",
              "      <td>Free</td>\n",
              "      <td>0</td>\n",
              "      <td>Everyone</td>\n",
              "      <td>Art &amp; Design</td>\n",
              "      <td>January 7, 2018</td>\n",
              "      <td>1.0.0</td>\n",
              "      <td>4.0.3 and up</td>\n",
              "    </tr>\n",
              "    <tr>\n",
              "      <th>1</th>\n",
              "      <td>Coloring book moana</td>\n",
              "      <td>ART_AND_DESIGN</td>\n",
              "      <td>3.9</td>\n",
              "      <td>967</td>\n",
              "      <td>14M</td>\n",
              "      <td>500,000+</td>\n",
              "      <td>Free</td>\n",
              "      <td>0</td>\n",
              "      <td>Everyone</td>\n",
              "      <td>Art &amp; Design;Pretend Play</td>\n",
              "      <td>January 15, 2018</td>\n",
              "      <td>2.0.0</td>\n",
              "      <td>4.0.3 and up</td>\n",
              "    </tr>\n",
              "    <tr>\n",
              "      <th>2</th>\n",
              "      <td>U Launcher Lite – FREE Live Cool Themes, Hide ...</td>\n",
              "      <td>ART_AND_DESIGN</td>\n",
              "      <td>4.7</td>\n",
              "      <td>87510</td>\n",
              "      <td>8.7M</td>\n",
              "      <td>5,000,000+</td>\n",
              "      <td>Free</td>\n",
              "      <td>0</td>\n",
              "      <td>Everyone</td>\n",
              "      <td>Art &amp; Design</td>\n",
              "      <td>August 1, 2018</td>\n",
              "      <td>1.2.4</td>\n",
              "      <td>4.0.3 and up</td>\n",
              "    </tr>\n",
              "    <tr>\n",
              "      <th>3</th>\n",
              "      <td>Sketch - Draw &amp; Paint</td>\n",
              "      <td>ART_AND_DESIGN</td>\n",
              "      <td>4.5</td>\n",
              "      <td>215644</td>\n",
              "      <td>25M</td>\n",
              "      <td>50,000,000+</td>\n",
              "      <td>Free</td>\n",
              "      <td>0</td>\n",
              "      <td>Teen</td>\n",
              "      <td>Art &amp; Design</td>\n",
              "      <td>June 8, 2018</td>\n",
              "      <td>Varies with device</td>\n",
              "      <td>4.2 and up</td>\n",
              "    </tr>\n",
              "    <tr>\n",
              "      <th>4</th>\n",
              "      <td>Pixel Draw - Number Art Coloring Book</td>\n",
              "      <td>ART_AND_DESIGN</td>\n",
              "      <td>4.3</td>\n",
              "      <td>967</td>\n",
              "      <td>2.8M</td>\n",
              "      <td>100,000+</td>\n",
              "      <td>Free</td>\n",
              "      <td>0</td>\n",
              "      <td>Everyone</td>\n",
              "      <td>Art &amp; Design;Creativity</td>\n",
              "      <td>June 20, 2018</td>\n",
              "      <td>1.1</td>\n",
              "      <td>4.4 and up</td>\n",
              "    </tr>\n",
              "  </tbody>\n",
              "</table>\n",
              "</div>\n",
              "      <button class=\"colab-df-convert\" onclick=\"convertToInteractive('df-63f8602e-9a56-4dc4-bea0-bd86f90e8a7d')\"\n",
              "              title=\"Convert this dataframe to an interactive table.\"\n",
              "              style=\"display:none;\">\n",
              "        \n",
              "  <svg xmlns=\"http://www.w3.org/2000/svg\" height=\"24px\"viewBox=\"0 0 24 24\"\n",
              "       width=\"24px\">\n",
              "    <path d=\"M0 0h24v24H0V0z\" fill=\"none\"/>\n",
              "    <path d=\"M18.56 5.44l.94 2.06.94-2.06 2.06-.94-2.06-.94-.94-2.06-.94 2.06-2.06.94zm-11 1L8.5 8.5l.94-2.06 2.06-.94-2.06-.94L8.5 2.5l-.94 2.06-2.06.94zm10 10l.94 2.06.94-2.06 2.06-.94-2.06-.94-.94-2.06-.94 2.06-2.06.94z\"/><path d=\"M17.41 7.96l-1.37-1.37c-.4-.4-.92-.59-1.43-.59-.52 0-1.04.2-1.43.59L10.3 9.45l-7.72 7.72c-.78.78-.78 2.05 0 2.83L4 21.41c.39.39.9.59 1.41.59.51 0 1.02-.2 1.41-.59l7.78-7.78 2.81-2.81c.8-.78.8-2.07 0-2.86zM5.41 20L4 18.59l7.72-7.72 1.47 1.35L5.41 20z\"/>\n",
              "  </svg>\n",
              "      </button>\n",
              "      \n",
              "  <style>\n",
              "    .colab-df-container {\n",
              "      display:flex;\n",
              "      flex-wrap:wrap;\n",
              "      gap: 12px;\n",
              "    }\n",
              "\n",
              "    .colab-df-convert {\n",
              "      background-color: #E8F0FE;\n",
              "      border: none;\n",
              "      border-radius: 50%;\n",
              "      cursor: pointer;\n",
              "      display: none;\n",
              "      fill: #1967D2;\n",
              "      height: 32px;\n",
              "      padding: 0 0 0 0;\n",
              "      width: 32px;\n",
              "    }\n",
              "\n",
              "    .colab-df-convert:hover {\n",
              "      background-color: #E2EBFA;\n",
              "      box-shadow: 0px 1px 2px rgba(60, 64, 67, 0.3), 0px 1px 3px 1px rgba(60, 64, 67, 0.15);\n",
              "      fill: #174EA6;\n",
              "    }\n",
              "\n",
              "    [theme=dark] .colab-df-convert {\n",
              "      background-color: #3B4455;\n",
              "      fill: #D2E3FC;\n",
              "    }\n",
              "\n",
              "    [theme=dark] .colab-df-convert:hover {\n",
              "      background-color: #434B5C;\n",
              "      box-shadow: 0px 1px 3px 1px rgba(0, 0, 0, 0.15);\n",
              "      filter: drop-shadow(0px 1px 2px rgba(0, 0, 0, 0.3));\n",
              "      fill: #FFFFFF;\n",
              "    }\n",
              "  </style>\n",
              "\n",
              "      <script>\n",
              "        const buttonEl =\n",
              "          document.querySelector('#df-63f8602e-9a56-4dc4-bea0-bd86f90e8a7d button.colab-df-convert');\n",
              "        buttonEl.style.display =\n",
              "          google.colab.kernel.accessAllowed ? 'block' : 'none';\n",
              "\n",
              "        async function convertToInteractive(key) {\n",
              "          const element = document.querySelector('#df-63f8602e-9a56-4dc4-bea0-bd86f90e8a7d');\n",
              "          const dataTable =\n",
              "            await google.colab.kernel.invokeFunction('convertToInteractive',\n",
              "                                                     [key], {});\n",
              "          if (!dataTable) return;\n",
              "\n",
              "          const docLinkHtml = 'Like what you see? Visit the ' +\n",
              "            '<a target=\"_blank\" href=https://colab.research.google.com/notebooks/data_table.ipynb>data table notebook</a>'\n",
              "            + ' to learn more about interactive tables.';\n",
              "          element.innerHTML = '';\n",
              "          dataTable['output_type'] = 'display_data';\n",
              "          await google.colab.output.renderOutput(dataTable, element);\n",
              "          const docLink = document.createElement('div');\n",
              "          docLink.innerHTML = docLinkHtml;\n",
              "          element.appendChild(docLink);\n",
              "        }\n",
              "      </script>\n",
              "    </div>\n",
              "  </div>\n",
              "  "
            ]
          },
          "metadata": {},
          "execution_count": 8
        }
      ]
    },
    {
      "cell_type": "markdown",
      "source": [
        "### Dataset Rows & Columns count"
      ],
      "metadata": {
        "id": "0DcOAv-ThRmd"
      }
    },
    {
      "cell_type": "code",
      "source": [
        "#lets find how many rows and column in our dataset\n",
        "df.shape            "
      ],
      "metadata": {
        "colab": {
          "base_uri": "https://localhost:8080/"
        },
        "id": "Ap2tfAQPhhc8",
        "outputId": "d2c0ecbe-01df-4076-af62-3b604ffe834e"
      },
      "execution_count": null,
      "outputs": [
        {
          "output_type": "execute_result",
          "data": {
            "text/plain": [
              "(10841, 13)"
            ]
          },
          "metadata": {},
          "execution_count": 6
        }
      ]
    },
    {
      "cell_type": "markdown",
      "source": [
        "We can see that our first data set contains 10841 rows and 13 columns."
      ],
      "metadata": {
        "id": "YRcfihgnjGyl"
      }
    },
    {
      "cell_type": "markdown",
      "source": [
        "### Dataset Information"
      ],
      "metadata": {
        "id": "KEnhpbT5jwsK"
      }
    },
    {
      "cell_type": "code",
      "source": [
        "# all basic information regarding datatype,non nullcount,filesize.\n",
        "# we have only one column with float datatype ie Rating\n",
        "df.info()"
      ],
      "metadata": {
        "colab": {
          "base_uri": "https://localhost:8080/"
        },
        "id": "FKruVCMtkBI4",
        "outputId": "75e65661-6158-4a87-e1a6-868dbe8993d8"
      },
      "execution_count": null,
      "outputs": [
        {
          "output_type": "stream",
          "name": "stdout",
          "text": [
            "<class 'pandas.core.frame.DataFrame'>\n",
            "RangeIndex: 10841 entries, 0 to 10840\n",
            "Data columns (total 13 columns):\n",
            " #   Column          Non-Null Count  Dtype  \n",
            "---  ------          --------------  -----  \n",
            " 0   App             10841 non-null  object \n",
            " 1   Category        10841 non-null  object \n",
            " 2   Rating          9367 non-null   float64\n",
            " 3   Reviews         10841 non-null  object \n",
            " 4   Size            10841 non-null  object \n",
            " 5   Installs        10841 non-null  object \n",
            " 6   Type            10840 non-null  object \n",
            " 7   Price           10841 non-null  object \n",
            " 8   Content Rating  10840 non-null  object \n",
            " 9   Genres          10841 non-null  object \n",
            " 10  Last Updated    10841 non-null  object \n",
            " 11  Current Ver     10833 non-null  object \n",
            " 12  Android Ver     10838 non-null  object \n",
            "dtypes: float64(1), object(12)\n",
            "memory usage: 1.1+ MB\n"
          ]
        }
      ]
    },
    {
      "cell_type": "markdown",
      "source": [
        "#### Missing Values/Null Values"
      ],
      "metadata": {
        "id": "tYt-qhuhk1-R"
      }
    },
    {
      "cell_type": "code",
      "source": [
        "# for checking null values\n",
        "df.isnull().sum()"
      ],
      "metadata": {
        "colab": {
          "base_uri": "https://localhost:8080/"
        },
        "id": "Z8SXX8fRlFzA",
        "outputId": "8022cada-2271-4d5d-cac3-e8efda125531"
      },
      "execution_count": null,
      "outputs": [
        {
          "output_type": "execute_result",
          "data": {
            "text/plain": [
              "App                  0\n",
              "Category             0\n",
              "Rating            1474\n",
              "Reviews              0\n",
              "Size                 0\n",
              "Installs             0\n",
              "Type                 1\n",
              "Price                0\n",
              "Content Rating       1\n",
              "Genres               0\n",
              "Last Updated         0\n",
              "Current Ver          8\n",
              "Android Ver          3\n",
              "dtype: int64"
            ]
          },
          "metadata": {},
          "execution_count": 9
        }
      ]
    },
    {
      "cell_type": "markdown",
      "source": [
        "By above applied all operations we can say that our data set contains 10841 rows and 13 columns.\n",
        "\n",
        "We have 13 differnt columns name like App,Category,Rating,Reviews,Size,Installs,Type,Price,Content Rating,Geners,Last updated,Current Ver,Android Ver.Which contains differnt type of data type.Only Rating column cotains float data type reaming 12 columns are object data type.\n",
        "\n",
        "There are 1474 null values in Rating column, 1 null value in Type and Content Rating column, 8 in android version and  3 null values in current ver column,\n",
        "\n",
        "\n",
        "\n"
      ],
      "metadata": {
        "id": "e4oxNVq6l_R_"
      }
    },
    {
      "cell_type": "markdown",
      "source": [
        "## ***2. Understanding Your Variables***"
      ],
      "metadata": {
        "id": "0u5n3aUD_iyj"
      }
    },
    {
      "cell_type": "code",
      "source": [
        "# find all column name\n",
        "df.columns"
      ],
      "metadata": {
        "id": "rYVRecO-l9Vb"
      },
      "execution_count": null,
      "outputs": []
    },
    {
      "cell_type": "code",
      "source": [
        "# all aggregate functon of numerical column which is Rating like count,mean,std percentile etc.\n",
        "\n",
        "df.describe()"
      ],
      "metadata": {
        "colab": {
          "base_uri": "https://localhost:8080/",
          "height": 300
        },
        "id": "dOD_MsJ1BOA-",
        "outputId": "bd6f5b0e-2583-4972-de37-6a5ec3d1f7a3"
      },
      "execution_count": null,
      "outputs": [
        {
          "output_type": "execute_result",
          "data": {
            "text/plain": [
              "            Rating\n",
              "count  9367.000000\n",
              "mean      4.193338\n",
              "std       0.537431\n",
              "min       1.000000\n",
              "25%       4.000000\n",
              "50%       4.300000\n",
              "75%       4.500000\n",
              "max      19.000000"
            ],
            "text/html": [
              "\n",
              "  <div id=\"df-af67ca85-5605-43d8-b757-560922f65a6b\">\n",
              "    <div class=\"colab-df-container\">\n",
              "      <div>\n",
              "<style scoped>\n",
              "    .dataframe tbody tr th:only-of-type {\n",
              "        vertical-align: middle;\n",
              "    }\n",
              "\n",
              "    .dataframe tbody tr th {\n",
              "        vertical-align: top;\n",
              "    }\n",
              "\n",
              "    .dataframe thead th {\n",
              "        text-align: right;\n",
              "    }\n",
              "</style>\n",
              "<table border=\"1\" class=\"dataframe\">\n",
              "  <thead>\n",
              "    <tr style=\"text-align: right;\">\n",
              "      <th></th>\n",
              "      <th>Rating</th>\n",
              "    </tr>\n",
              "  </thead>\n",
              "  <tbody>\n",
              "    <tr>\n",
              "      <th>count</th>\n",
              "      <td>9367.000000</td>\n",
              "    </tr>\n",
              "    <tr>\n",
              "      <th>mean</th>\n",
              "      <td>4.193338</td>\n",
              "    </tr>\n",
              "    <tr>\n",
              "      <th>std</th>\n",
              "      <td>0.537431</td>\n",
              "    </tr>\n",
              "    <tr>\n",
              "      <th>min</th>\n",
              "      <td>1.000000</td>\n",
              "    </tr>\n",
              "    <tr>\n",
              "      <th>25%</th>\n",
              "      <td>4.000000</td>\n",
              "    </tr>\n",
              "    <tr>\n",
              "      <th>50%</th>\n",
              "      <td>4.300000</td>\n",
              "    </tr>\n",
              "    <tr>\n",
              "      <th>75%</th>\n",
              "      <td>4.500000</td>\n",
              "    </tr>\n",
              "    <tr>\n",
              "      <th>max</th>\n",
              "      <td>19.000000</td>\n",
              "    </tr>\n",
              "  </tbody>\n",
              "</table>\n",
              "</div>\n",
              "      <button class=\"colab-df-convert\" onclick=\"convertToInteractive('df-af67ca85-5605-43d8-b757-560922f65a6b')\"\n",
              "              title=\"Convert this dataframe to an interactive table.\"\n",
              "              style=\"display:none;\">\n",
              "        \n",
              "  <svg xmlns=\"http://www.w3.org/2000/svg\" height=\"24px\"viewBox=\"0 0 24 24\"\n",
              "       width=\"24px\">\n",
              "    <path d=\"M0 0h24v24H0V0z\" fill=\"none\"/>\n",
              "    <path d=\"M18.56 5.44l.94 2.06.94-2.06 2.06-.94-2.06-.94-.94-2.06-.94 2.06-2.06.94zm-11 1L8.5 8.5l.94-2.06 2.06-.94-2.06-.94L8.5 2.5l-.94 2.06-2.06.94zm10 10l.94 2.06.94-2.06 2.06-.94-2.06-.94-.94-2.06-.94 2.06-2.06.94z\"/><path d=\"M17.41 7.96l-1.37-1.37c-.4-.4-.92-.59-1.43-.59-.52 0-1.04.2-1.43.59L10.3 9.45l-7.72 7.72c-.78.78-.78 2.05 0 2.83L4 21.41c.39.39.9.59 1.41.59.51 0 1.02-.2 1.41-.59l7.78-7.78 2.81-2.81c.8-.78.8-2.07 0-2.86zM5.41 20L4 18.59l7.72-7.72 1.47 1.35L5.41 20z\"/>\n",
              "  </svg>\n",
              "      </button>\n",
              "      \n",
              "  <style>\n",
              "    .colab-df-container {\n",
              "      display:flex;\n",
              "      flex-wrap:wrap;\n",
              "      gap: 12px;\n",
              "    }\n",
              "\n",
              "    .colab-df-convert {\n",
              "      background-color: #E8F0FE;\n",
              "      border: none;\n",
              "      border-radius: 50%;\n",
              "      cursor: pointer;\n",
              "      display: none;\n",
              "      fill: #1967D2;\n",
              "      height: 32px;\n",
              "      padding: 0 0 0 0;\n",
              "      width: 32px;\n",
              "    }\n",
              "\n",
              "    .colab-df-convert:hover {\n",
              "      background-color: #E2EBFA;\n",
              "      box-shadow: 0px 1px 2px rgba(60, 64, 67, 0.3), 0px 1px 3px 1px rgba(60, 64, 67, 0.15);\n",
              "      fill: #174EA6;\n",
              "    }\n",
              "\n",
              "    [theme=dark] .colab-df-convert {\n",
              "      background-color: #3B4455;\n",
              "      fill: #D2E3FC;\n",
              "    }\n",
              "\n",
              "    [theme=dark] .colab-df-convert:hover {\n",
              "      background-color: #434B5C;\n",
              "      box-shadow: 0px 1px 3px 1px rgba(0, 0, 0, 0.15);\n",
              "      filter: drop-shadow(0px 1px 2px rgba(0, 0, 0, 0.3));\n",
              "      fill: #FFFFFF;\n",
              "    }\n",
              "  </style>\n",
              "\n",
              "      <script>\n",
              "        const buttonEl =\n",
              "          document.querySelector('#df-af67ca85-5605-43d8-b757-560922f65a6b button.colab-df-convert');\n",
              "        buttonEl.style.display =\n",
              "          google.colab.kernel.accessAllowed ? 'block' : 'none';\n",
              "\n",
              "        async function convertToInteractive(key) {\n",
              "          const element = document.querySelector('#df-af67ca85-5605-43d8-b757-560922f65a6b');\n",
              "          const dataTable =\n",
              "            await google.colab.kernel.invokeFunction('convertToInteractive',\n",
              "                                                     [key], {});\n",
              "          if (!dataTable) return;\n",
              "\n",
              "          const docLinkHtml = 'Like what you see? Visit the ' +\n",
              "            '<a target=\"_blank\" href=https://colab.research.google.com/notebooks/data_table.ipynb>data table notebook</a>'\n",
              "            + ' to learn more about interactive tables.';\n",
              "          element.innerHTML = '';\n",
              "          dataTable['output_type'] = 'display_data';\n",
              "          await google.colab.output.renderOutput(dataTable, element);\n",
              "          const docLink = document.createElement('div');\n",
              "          docLink.innerHTML = docLinkHtml;\n",
              "          element.appendChild(docLink);\n",
              "        }\n",
              "      </script>\n",
              "    </div>\n",
              "  </div>\n",
              "  "
            ]
          },
          "metadata": {},
          "execution_count": 32
        }
      ]
    },
    {
      "cell_type": "markdown",
      "source": [
        "### Variables Description "
      ],
      "metadata": {
        "id": "S1C-sbhsAHMf"
      }
    },
    {
      "cell_type": "markdown",
      "source": [
        "By above to method we know that we have 13 column 12 have object data type and one column that is Rating has float data type.\n",
        "\n",
        "by describe method we calculate the mean, count,standard deviation,min value,max value and percentile value.\n",
        "\n",
        "The variation between avg and max value is very lage. it indicate that there is must present  outliers."
      ],
      "metadata": {
        "id": "ua6RKNyGAMsu"
      }
    },
    {
      "cell_type": "markdown",
      "source": [
        "### Check Unique Values for each variable."
      ],
      "metadata": {
        "id": "mqkr4pFDCRto"
      }
    },
    {
      "cell_type": "code",
      "source": [
        "df.nunique()"
      ],
      "metadata": {
        "colab": {
          "base_uri": "https://localhost:8080/"
        },
        "id": "1-KS5-gYCX-K",
        "outputId": "9da8aae7-baab-4c35-b4c8-31391da4fd73"
      },
      "execution_count": 6,
      "outputs": [
        {
          "output_type": "execute_result",
          "data": {
            "text/plain": [
              "App               9660\n",
              "Category            34\n",
              "Rating              40\n",
              "Reviews           6002\n",
              "Size               462\n",
              "Installs            22\n",
              "Type                 3\n",
              "Price               93\n",
              "Content Rating       6\n",
              "Genres             120\n",
              "Last Updated      1378\n",
              "Current Ver       2832\n",
              "Android Ver         33\n",
              "dtype: int64"
            ]
          },
          "metadata": {},
          "execution_count": 6
        }
      ]
    },
    {
      "cell_type": "markdown",
      "source": [
        "By above method we can say that number of rows is differnt than actual no of rows.it indicate that it must present some duplicate and null values."
      ],
      "metadata": {
        "id": "nSiLrro1Clsa"
      }
    },
    {
      "cell_type": "markdown",
      "source": [
        "## 3. ***Data Wrangling***"
      ],
      "metadata": {
        "id": "C2-006Y-DDih"
      }
    },
    {
      "cell_type": "markdown",
      "source": [
        "Data wrangling is the process of cleaning, transforming, and manipulating data so that it can be used in analysis. It is an important step in the Exploratory Data Analysis (EDA) process because real-world data is often messy and requires a lot of preprocessing before it is ready for analysis. Data wrangling can involve tasks such as handling missing values, detecting and handling outliers, converting data into a suitable format for analysis, and more. It is an iterative process that typically involves writing code in a programming language such as Python, and can take up a significant amount of time in the EDA process."
      ],
      "metadata": {
        "id": "vbXhJOAZDiuI"
      }
    },
    {
      "cell_type": "code",
      "source": [
        "# boxplot is applicable on only integer type data type.we apply on our data frame.\n",
        "# checking for outliers \n",
        "df.boxplot();     "
      ],
      "metadata": {
        "colab": {
          "base_uri": "https://localhost:8080/",
          "height": 265
        },
        "id": "PkQUMdOVPjgy",
        "outputId": "c5ba49c7-9f70-4ac2-eb1f-0485b7f03f1e"
      },
      "execution_count": null,
      "outputs": [
        {
          "output_type": "display_data",
          "data": {
            "text/plain": [
              "<Figure size 432x288 with 1 Axes>"
            ],
            "image/png": "[encoded data removed]"
          },
          "metadata": {
            "needs_background": "light"
          }
        }
      ]
    },
    {
      "cell_type": "code",
      "source": [
        "# for checking outliers.\n",
        "# clearly seen that outlier is present\n",
        "df.hist();   "
      ],
      "metadata": {
        "colab": {
          "base_uri": "https://localhost:8080/",
          "height": 281
        },
        "id": "LjDntaZ9T3Ce",
        "outputId": "528c1810-4db4-401c-f4b7-a63b5543f787"
      },
      "execution_count": null,
      "outputs": [
        {
          "output_type": "display_data",
          "data": {
            "text/plain": [
              "<Figure size 432x288 with 1 Axes>"
            ],
            "image/png": "[encoded data removed]"
          },
          "metadata": {
            "needs_background": "light"
          }
        }
      ]
    },
    {
      "cell_type": "markdown",
      "source": [
        "#DATA CLEANING\n",
        "➡ Cleaning and converting raw data before processing and analysis is known as data preparation. Prior to processing, it is a crucial phase that frequently entails reformatting data, correcting data, and integrating data sets to enrich data. It involves determining which parts of the data are incomplete, incorrect, inaccurate, or irrelevant, and then replacing, changing, or deleting the soiled or coarse data.\n",
        "\n",
        "➡ above two plots ie boxplot and histogram clearly shown that some outliers are present.\n",
        "\n",
        "➡ In our data frame many null values is also present.\n",
        "\n",
        "➡ in data cleaning process we remove all null values and outliers.\n"
      ],
      "metadata": {
        "id": "Ty0Iw_JuWtU1"
      }
    },
    {
      "cell_type": "markdown",
      "source": [
        "#Rating"
      ],
      "metadata": {
        "id": "FmioiqmvEjFt"
      }
    },
    {
      "cell_type": "code",
      "source": [
        "# for checking which row has outlier\n",
        "df[df['Rating']>5]     "
      ],
      "metadata": {
        "colab": {
          "base_uri": "https://localhost:8080/",
          "height": 159
        },
        "id": "poLbuMi8Z-VN",
        "outputId": "1808a489-2410-407b-b1ff-91358ae0fdfd"
      },
      "execution_count": null,
      "outputs": [
        {
          "output_type": "execute_result",
          "data": {
            "text/plain": [
              "                                           App Category  Rating Reviews  \\\n",
              "10472  Life Made WI-Fi Touchscreen Photo Frame      1.9    19.0    3.0M   \n",
              "\n",
              "         Size Installs Type     Price Content Rating             Genres  \\\n",
              "10472  1,000+     Free    0  Everyone            NaN  February 11, 2018   \n",
              "\n",
              "      Last Updated Current Ver Android Ver  \n",
              "10472       1.0.19  4.0 and up         NaN  "
            ],
            "text/html": [
              "\n",
              "  <div id=\"df-76d72678-657d-4466-9cc2-fad01f7a1a3a\">\n",
              "    <div class=\"colab-df-container\">\n",
              "      <div>\n",
              "<style scoped>\n",
              "    .dataframe tbody tr th:only-of-type {\n",
              "        vertical-align: middle;\n",
              "    }\n",
              "\n",
              "    .dataframe tbody tr th {\n",
              "        vertical-align: top;\n",
              "    }\n",
              "\n",
              "    .dataframe thead th {\n",
              "        text-align: right;\n",
              "    }\n",
              "</style>\n",
              "<table border=\"1\" class=\"dataframe\">\n",
              "  <thead>\n",
              "    <tr style=\"text-align: right;\">\n",
              "      <th></th>\n",
              "      <th>App</th>\n",
              "      <th>Category</th>\n",
              "      <th>Rating</th>\n",
              "      <th>Reviews</th>\n",
              "      <th>Size</th>\n",
              "      <th>Installs</th>\n",
              "      <th>Type</th>\n",
              "      <th>Price</th>\n",
              "      <th>Content Rating</th>\n",
              "      <th>Genres</th>\n",
              "      <th>Last Updated</th>\n",
              "      <th>Current Ver</th>\n",
              "      <th>Android Ver</th>\n",
              "    </tr>\n",
              "  </thead>\n",
              "  <tbody>\n",
              "    <tr>\n",
              "      <th>10472</th>\n",
              "      <td>Life Made WI-Fi Touchscreen Photo Frame</td>\n",
              "      <td>1.9</td>\n",
              "      <td>19.0</td>\n",
              "      <td>3.0M</td>\n",
              "      <td>1,000+</td>\n",
              "      <td>Free</td>\n",
              "      <td>0</td>\n",
              "      <td>Everyone</td>\n",
              "      <td>NaN</td>\n",
              "      <td>February 11, 2018</td>\n",
              "      <td>1.0.19</td>\n",
              "      <td>4.0 and up</td>\n",
              "      <td>NaN</td>\n",
              "    </tr>\n",
              "  </tbody>\n",
              "</table>\n",
              "</div>\n",
              "      <button class=\"colab-df-convert\" onclick=\"convertToInteractive('df-76d72678-657d-4466-9cc2-fad01f7a1a3a')\"\n",
              "              title=\"Convert this dataframe to an interactive table.\"\n",
              "              style=\"display:none;\">\n",
              "        \n",
              "  <svg xmlns=\"http://www.w3.org/2000/svg\" height=\"24px\"viewBox=\"0 0 24 24\"\n",
              "       width=\"24px\">\n",
              "    <path d=\"M0 0h24v24H0V0z\" fill=\"none\"/>\n",
              "    <path d=\"M18.56 5.44l.94 2.06.94-2.06 2.06-.94-2.06-.94-.94-2.06-.94 2.06-2.06.94zm-11 1L8.5 8.5l.94-2.06 2.06-.94-2.06-.94L8.5 2.5l-.94 2.06-2.06.94zm10 10l.94 2.06.94-2.06 2.06-.94-2.06-.94-.94-2.06-.94 2.06-2.06.94z\"/><path d=\"M17.41 7.96l-1.37-1.37c-.4-.4-.92-.59-1.43-.59-.52 0-1.04.2-1.43.59L10.3 9.45l-7.72 7.72c-.78.78-.78 2.05 0 2.83L4 21.41c.39.39.9.59 1.41.59.51 0 1.02-.2 1.41-.59l7.78-7.78 2.81-2.81c.8-.78.8-2.07 0-2.86zM5.41 20L4 18.59l7.72-7.72 1.47 1.35L5.41 20z\"/>\n",
              "  </svg>\n",
              "      </button>\n",
              "      \n",
              "  <style>\n",
              "    .colab-df-container {\n",
              "      display:flex;\n",
              "      flex-wrap:wrap;\n",
              "      gap: 12px;\n",
              "    }\n",
              "\n",
              "    .colab-df-convert {\n",
              "      background-color: #E8F0FE;\n",
              "      border: none;\n",
              "      border-radius: 50%;\n",
              "      cursor: pointer;\n",
              "      display: none;\n",
              "      fill: #1967D2;\n",
              "      height: 32px;\n",
              "      padding: 0 0 0 0;\n",
              "      width: 32px;\n",
              "    }\n",
              "\n",
              "    .colab-df-convert:hover {\n",
              "      background-color: #E2EBFA;\n",
              "      box-shadow: 0px 1px 2px rgba(60, 64, 67, 0.3), 0px 1px 3px 1px rgba(60, 64, 67, 0.15);\n",
              "      fill: #174EA6;\n",
              "    }\n",
              "\n",
              "    [theme=dark] .colab-df-convert {\n",
              "      background-color: #3B4455;\n",
              "      fill: #D2E3FC;\n",
              "    }\n",
              "\n",
              "    [theme=dark] .colab-df-convert:hover {\n",
              "      background-color: #434B5C;\n",
              "      box-shadow: 0px 1px 3px 1px rgba(0, 0, 0, 0.15);\n",
              "      filter: drop-shadow(0px 1px 2px rgba(0, 0, 0, 0.3));\n",
              "      fill: #FFFFFF;\n",
              "    }\n",
              "  </style>\n",
              "\n",
              "      <script>\n",
              "        const buttonEl =\n",
              "          document.querySelector('#df-76d72678-657d-4466-9cc2-fad01f7a1a3a button.colab-df-convert');\n",
              "        buttonEl.style.display =\n",
              "          google.colab.kernel.accessAllowed ? 'block' : 'none';\n",
              "\n",
              "        async function convertToInteractive(key) {\n",
              "          const element = document.querySelector('#df-76d72678-657d-4466-9cc2-fad01f7a1a3a');\n",
              "          const dataTable =\n",
              "            await google.colab.kernel.invokeFunction('convertToInteractive',\n",
              "                                                     [key], {});\n",
              "          if (!dataTable) return;\n",
              "\n",
              "          const docLinkHtml = 'Like what you see? Visit the ' +\n",
              "            '<a target=\"_blank\" href=https://colab.research.google.com/notebooks/data_table.ipynb>data table notebook</a>'\n",
              "            + ' to learn more about interactive tables.';\n",
              "          element.innerHTML = '';\n",
              "          dataTable['output_type'] = 'display_data';\n",
              "          await google.colab.output.renderOutput(dataTable, element);\n",
              "          const docLink = document.createElement('div');\n",
              "          docLink.innerHTML = docLinkHtml;\n",
              "          element.appendChild(docLink);\n",
              "        }\n",
              "      </script>\n",
              "    </div>\n",
              "  </div>\n",
              "  "
            ]
          },
          "metadata": {},
          "execution_count": 9
        }
      ]
    },
    {
      "cell_type": "code",
      "source": [
        "# droping the outlier row \n",
        "df.drop([10472],inplace=True)"
      ],
      "metadata": {
        "id": "qNPZPDQIbW1q"
      },
      "execution_count": null,
      "outputs": []
    },
    {
      "cell_type": "code",
      "source": [
        "# for rechecking for outlier.\n",
        "df.boxplot(color='r');\n",
        "df.hist(color='g');         "
      ],
      "metadata": {
        "colab": {
          "base_uri": "https://localhost:8080/",
          "height": 529
        },
        "id": "_hC6qrtca9L4",
        "outputId": "42dcb9c0-9dd8-4cbd-a112-9bef5b7022ed"
      },
      "execution_count": null,
      "outputs": [
        {
          "output_type": "display_data",
          "data": {
            "text/plain": [
              "<Figure size 432x288 with 1 Axes>"
            ],
            "image/png": "[encoded data removed]"
          },
          "metadata": {
            "needs_background": "light"
          }
        },
        {
          "output_type": "display_data",
          "data": {
            "text/plain": [
              "<Figure size 432x288 with 1 Axes>"
            ],
            "image/png": "[encoded data removed]"
          },
          "metadata": {
            "needs_background": "light"
          }
        }
      ]
    },
    {
      "cell_type": "code",
      "source": [
        "## above two plot clearly seen that maximum rating lies between (3.5 to 5)"
      ],
      "metadata": {
        "id": "2ev1wWyKddle"
      },
      "execution_count": null,
      "outputs": []
    },
    {
      "cell_type": "code",
      "source": [
        "# for checking null values\n",
        "df.isnull().sum()"
      ],
      "metadata": {
        "colab": {
          "base_uri": "https://localhost:8080/"
        },
        "id": "tHF6IV7jgpQF",
        "outputId": "16604f57-3a34-460d-8f54-d2440818a74d"
      },
      "execution_count": null,
      "outputs": [
        {
          "output_type": "execute_result",
          "data": {
            "text/plain": [
              "App                  0\n",
              "Category             0\n",
              "Rating            1474\n",
              "Reviews              0\n",
              "Size                 0\n",
              "Installs             0\n",
              "Type                 1\n",
              "Price                0\n",
              "Content Rating       0\n",
              "Genres               0\n",
              "Last Updated         0\n",
              "Current Ver          8\n",
              "Android Ver          2\n",
              "dtype: int64"
            ]
          },
          "metadata": {},
          "execution_count": 18
        }
      ]
    },
    {
      "cell_type": "code",
      "source": [
        "# in our first data frame in numeric coloumn that is Rating null values is replaced by the median of that column"
      ],
      "metadata": {
        "id": "N-T9yCaUvh5m"
      },
      "execution_count": null,
      "outputs": []
    },
    {
      "cell_type": "code",
      "source": [
        "# defining function for replacing null values by its median \n",
        "def replaced_by_median(series):\n",
        "  return series.fillna(series.median())\n"
      ],
      "metadata": {
        "id": "BUx_IbdhwRlY"
      },
      "execution_count": null,
      "outputs": []
    },
    {
      "cell_type": "code",
      "source": [
        "# apply function\n",
        "df.Rating=df['Rating'].transform (replaced_by_median)"
      ],
      "metadata": {
        "id": "ib4v4hi8w4OG"
      },
      "execution_count": null,
      "outputs": []
    },
    {
      "cell_type": "code",
      "source": [
        "# checking null values\n",
        "df['Rating'].isnull().sum()         # now in Rating column no null value is present"
      ],
      "metadata": {
        "colab": {
          "base_uri": "https://localhost:8080/"
        },
        "id": "p0p3FPGTxoBq",
        "outputId": "0347d1ef-598b-447c-dace-f5f198bf9001"
      },
      "execution_count": null,
      "outputs": [
        {
          "output_type": "execute_result",
          "data": {
            "text/plain": [
              "0"
            ]
          },
          "metadata": {},
          "execution_count": 15
        }
      ]
    },
    {
      "cell_type": "code",
      "source": [
        "df.isnull().sum()"
      ],
      "metadata": {
        "colab": {
          "base_uri": "https://localhost:8080/"
        },
        "id": "vFnl3Q1TAZRN",
        "outputId": "945cabf9-bd07-4f90-d25e-6278fa426ab9"
      },
      "execution_count": null,
      "outputs": [
        {
          "output_type": "execute_result",
          "data": {
            "text/plain": [
              "App               0\n",
              "Category          0\n",
              "Rating            0\n",
              "Reviews           0\n",
              "Size              0\n",
              "Installs          0\n",
              "Type              1\n",
              "Price             0\n",
              "Content Rating    0\n",
              "Genres            0\n",
              "Last Updated      0\n",
              "Current Ver       8\n",
              "Android Ver       2\n",
              "dtype: int64"
            ]
          },
          "metadata": {},
          "execution_count": 12
        }
      ]
    },
    {
      "cell_type": "markdown",
      "source": [
        "#Type\n",
        " "
      ],
      "metadata": {
        "id": "RwjThILUAqxY"
      }
    },
    {
      "cell_type": "code",
      "source": [
        "# null value is replaced by the previus value of that column\n",
        "df['Type'].fillna(method='pad' ,inplace=True)\n"
      ],
      "metadata": {
        "id": "LbBOIg_r22PO"
      },
      "execution_count": null,
      "outputs": []
    },
    {
      "cell_type": "markdown",
      "source": [
        "#Current Ver"
      ],
      "metadata": {
        "id": "_wok-9Z4CisM"
      }
    },
    {
      "cell_type": "code",
      "source": [
        "#null value is replaced by the previus value of that column\n",
        "df['Current Ver'].fillna(method='pad',inplace=True)\n"
      ],
      "metadata": {
        "id": "cn_SmXR3Dhu5"
      },
      "execution_count": null,
      "outputs": []
    },
    {
      "cell_type": "markdown",
      "source": [
        "#Android Ver"
      ],
      "metadata": {
        "id": "iZvt5Y3ACygo"
      }
    },
    {
      "cell_type": "code",
      "source": [
        "#null value is replaced by the previus value of that column\n",
        "df['Android Ver'].fillna(method='pad',inplace=True)\n"
      ],
      "metadata": {
        "id": "L8SZgwniHpPo"
      },
      "execution_count": null,
      "outputs": []
    },
    {
      "cell_type": "code",
      "source": [
        "df.isnull().sum()"
      ],
      "metadata": {
        "colab": {
          "base_uri": "https://localhost:8080/"
        },
        "id": "2iG8eMQhSgXl",
        "outputId": "b11803ee-80d0-4da5-bbf5-bd3333ec1aa7"
      },
      "execution_count": null,
      "outputs": [
        {
          "output_type": "execute_result",
          "data": {
            "text/plain": [
              "App               0\n",
              "Category          0\n",
              "Rating            0\n",
              "Reviews           0\n",
              "Size              0\n",
              "Installs          0\n",
              "Type              0\n",
              "Price             0\n",
              "Content Rating    0\n",
              "Genres            0\n",
              "Last Updated      0\n",
              "Current Ver       0\n",
              "Android Ver       0\n",
              "dtype: int64"
            ]
          },
          "metadata": {},
          "execution_count": 19
        }
      ]
    },
    {
      "cell_type": "markdown",
      "source": [
        "NOW WE HAVE NO NULL VALUES IN ANY COLUMN\n",
        "\n"
      ],
      "metadata": {
        "id": "3Iv8D1SzSsVY"
      }
    },
    {
      "cell_type": "markdown",
      "source": [
        "#**Data preparation-**\n",
        "➡The datatype for columns like Reviews, Size, Installs, and price should be an int or float, but we can see that they are of object type here. Let's change them to the appropriate type."
      ],
      "metadata": {
        "id": "DNP9XrNkDhsB"
      }
    },
    {
      "cell_type": "markdown",
      "source": [
        "#Reviews"
      ],
      "metadata": {
        "id": "kP4hSp1FjotB"
      }
    },
    {
      "cell_type": "code",
      "source": [
        "# change the datatype of Reviews from object to int\n",
        "df['Reviews']=df.Reviews.astype(int)"
      ],
      "metadata": {
        "id": "Ai-wGr1ElLO1"
      },
      "execution_count": null,
      "outputs": []
    },
    {
      "cell_type": "markdown",
      "source": [
        "#Size\n",
        "➡it contains M,K(mb,kb)and varries with device. it is object type.so we convert kb in to Mb and float data type ."
      ],
      "metadata": {
        "id": "kg_ndJF_DeND"
      }
    },
    {
      "cell_type": "code",
      "source": [],
      "metadata": {
        "id": "oB-zneq5FomG"
      },
      "execution_count": null,
      "outputs": []
    },
    {
      "cell_type": "code",
      "source": [
        "# Removing M and k values and convert kb in mb.\n",
        "df['Size']=df['Size'].apply(lambda x:x.replace('M','')if 'M'in str(x)else x)\n",
        "df['Size']=df['Size'].apply(lambda x:float(x.replace('k',''))/1024 if 'k'in str(x) else x)"
      ],
      "metadata": {
        "id": "kcaGOyDXIn1I"
      },
      "execution_count": null,
      "outputs": []
    },
    {
      "cell_type": "code",
      "source": [
        "# Relacing 'Varies with  device' value with null value.\n",
        "df['Size']=df.Size.replace('Varies with device',np.NaN)"
      ],
      "metadata": {
        "id": "viZFDYY4OmO8"
      },
      "execution_count": null,
      "outputs": []
    },
    {
      "cell_type": "code",
      "source": [
        "# we drop the null value \n",
        "df.dropna(subset=['Size'],inplace=True)"
      ],
      "metadata": {
        "id": "vrUFHIWhP26c"
      },
      "execution_count": null,
      "outputs": []
    },
    {
      "cell_type": "code",
      "source": [
        "# convert the Size column in numeric type data.\n",
        "df['Size']=pd.to_numeric(df['Size'])"
      ],
      "metadata": {
        "id": "KdXv9a0cQ-p-"
      },
      "execution_count": null,
      "outputs": []
    },
    {
      "cell_type": "markdown",
      "source": [
        "#Installs\n",
        "➡it contains + and , so we replace them and convert to float"
      ],
      "metadata": {
        "id": "QvsaYHokavr_"
      }
    },
    {
      "cell_type": "code",
      "source": [
        "#removing + and convert in to float data type\n",
        "df['Installs']=df['Installs'].apply(lambda x:str(x).replace('+','')if '+' in str(x) else str(x))\n",
        "df['Installs']=df['Installs'].apply(lambda x:str(x).replace(',','')if ',' in str(x) else str(x))\n",
        "df['Installs']=df['Installs'].apply(lambda x:float(x))"
      ],
      "metadata": {
        "id": "J7w7rxgIZk2Q"
      },
      "execution_count": null,
      "outputs": []
    },
    {
      "cell_type": "markdown",
      "source": [
        "#Price \n",
        "➡it contains $ so we have to repalce and then convert into float"
      ],
      "metadata": {
        "id": "XQgmIgttaEcH"
      }
    },
    {
      "cell_type": "code",
      "source": [
        "#replacing the '$'with empty string\n",
        "df['Price']=df['Price'].apply(lambda x:str(x).replace('$','')if '$' in str(x)else str(x))\n",
        "# conver the numeric data type\n",
        "df['Price']=df['Price'].apply(lambda x: float(x))"
      ],
      "metadata": {
        "id": "kmdMkTXCS8R7"
      },
      "execution_count": null,
      "outputs": []
    },
    {
      "cell_type": "markdown",
      "source": [
        "## ***4. Data Vizualization, Storytelling & Experimenting with charts :*** \n"
      ],
      "metadata": {
        "id": "LwUUqz30mU6x"
      }
    },
    {
      "cell_type": "markdown",
      "source": [
        "#Category"
      ],
      "metadata": {
        "id": "HWUA_InPJ-dq"
      }
    },
    {
      "cell_type": "code",
      "source": [
        "# for checking unique category\n",
        "df['Category'].nunique()"
      ],
      "metadata": {
        "colab": {
          "base_uri": "https://localhost:8080/"
        },
        "id": "EdmDjZhgmz0s",
        "outputId": "f07e775e-32d1-4194-a853-2f10fa9c3d1c"
      },
      "execution_count": null,
      "outputs": [
        {
          "output_type": "execute_result",
          "data": {
            "text/plain": [
              "33"
            ]
          },
          "metadata": {},
          "execution_count": 27
        }
      ]
    },
    {
      "cell_type": "code",
      "source": [
        "# count of each categories app\n",
        "category_details=df['Category'].value_counts()\n",
        "category_details"
      ],
      "metadata": {
        "colab": {
          "base_uri": "https://localhost:8080/"
        },
        "id": "WBSHyxitnGdn",
        "outputId": "96bd2425-de57-4dca-f920-fed2cb3e9236"
      },
      "execution_count": null,
      "outputs": [
        {
          "output_type": "execute_result",
          "data": {
            "text/plain": [
              "FAMILY                 1832\n",
              "GAME                   1015\n",
              "TOOLS                   739\n",
              "MEDICAL                 434\n",
              "BUSINESS                400\n",
              "PERSONALIZATION         355\n",
              "LIFESTYLE               345\n",
              "SPORTS                  311\n",
              "FINANCE                 307\n",
              "PRODUCTIVITY            303\n",
              "COMMUNICATION           265\n",
              "HEALTH_AND_FITNESS      264\n",
              "PHOTOGRAPHY             254\n",
              "NEWS_AND_MAGAZINES      216\n",
              "DATING                  212\n",
              "SOCIAL                  210\n",
              "SHOPPING                201\n",
              "BOOKS_AND_REFERENCE     197\n",
              "TRAVEL_AND_LOCAL        192\n",
              "VIDEO_PLAYERS           131\n",
              "EDUCATION               111\n",
              "MAPS_AND_NAVIGATION     108\n",
              "FOOD_AND_DRINK          100\n",
              "ENTERTAINMENT            90\n",
              "LIBRARIES_AND_DEMO       82\n",
              "AUTO_AND_VEHICLES        75\n",
              "HOUSE_AND_HOME           68\n",
              "ART_AND_DESIGN           62\n",
              "EVENTS                   57\n",
              "WEATHER                  57\n",
              "PARENTING                54\n",
              "COMICS                   51\n",
              "BEAUTY                   47\n",
              "Name: Category, dtype: int64"
            ]
          },
          "metadata": {},
          "execution_count": 28
        }
      ]
    },
    {
      "cell_type": "code",
      "source": [
        "# determining the top categories app \n",
        "category_name=df['Category'].value_counts().index\n",
        "category_name"
      ],
      "metadata": {
        "colab": {
          "base_uri": "https://localhost:8080/"
        },
        "id": "TXQYE9cYni1f",
        "outputId": "37fdaf47-c558-404e-c0a0-c1d842b9c51c"
      },
      "execution_count": null,
      "outputs": [
        {
          "output_type": "execute_result",
          "data": {
            "text/plain": [
              "Index(['FAMILY', 'GAME', 'TOOLS', 'MEDICAL', 'BUSINESS', 'PERSONALIZATION',\n",
              "       'LIFESTYLE', 'SPORTS', 'FINANCE', 'PRODUCTIVITY', 'COMMUNICATION',\n",
              "       'HEALTH_AND_FITNESS', 'PHOTOGRAPHY', 'NEWS_AND_MAGAZINES', 'DATING',\n",
              "       'SOCIAL', 'SHOPPING', 'BOOKS_AND_REFERENCE', 'TRAVEL_AND_LOCAL',\n",
              "       'VIDEO_PLAYERS', 'EDUCATION', 'MAPS_AND_NAVIGATION', 'FOOD_AND_DRINK',\n",
              "       'ENTERTAINMENT', 'LIBRARIES_AND_DEMO', 'AUTO_AND_VEHICLES',\n",
              "       'HOUSE_AND_HOME', 'ART_AND_DESIGN', 'EVENTS', 'WEATHER', 'PARENTING',\n",
              "       'COMICS', 'BEAUTY'],\n",
              "      dtype='object')"
            ]
          },
          "metadata": {},
          "execution_count": 29
        }
      ]
    },
    {
      "cell_type": "code",
      "source": [
        "name = []\n",
        "counts = []\n",
        "for i in range(len(category_details)):\n",
        "    name.append(category_name[i])\n",
        "    counts.append(category_details[i])\n",
        "print(name) \n",
        "print(counts)   "
      ],
      "metadata": {
        "colab": {
          "base_uri": "https://localhost:8080/"
        },
        "id": "wfW55cu2oysb",
        "outputId": "372c0c12-eb62-4387-a489-bf95f2400fe9"
      },
      "execution_count": null,
      "outputs": [
        {
          "output_type": "stream",
          "name": "stdout",
          "text": [
            "['FAMILY', 'GAME', 'TOOLS', 'MEDICAL', 'BUSINESS', 'PERSONALIZATION', 'LIFESTYLE', 'SPORTS', 'FINANCE', 'PRODUCTIVITY', 'COMMUNICATION', 'HEALTH_AND_FITNESS', 'PHOTOGRAPHY', 'NEWS_AND_MAGAZINES', 'DATING', 'SOCIAL', 'SHOPPING', 'BOOKS_AND_REFERENCE', 'TRAVEL_AND_LOCAL', 'VIDEO_PLAYERS', 'EDUCATION', 'MAPS_AND_NAVIGATION', 'FOOD_AND_DRINK', 'ENTERTAINMENT', 'LIBRARIES_AND_DEMO', 'AUTO_AND_VEHICLES', 'HOUSE_AND_HOME', 'ART_AND_DESIGN', 'EVENTS', 'WEATHER', 'PARENTING', 'COMICS', 'BEAUTY']\n",
            "[1832, 1015, 739, 434, 400, 355, 345, 311, 307, 303, 265, 264, 254, 216, 212, 210, 201, 197, 192, 131, 111, 108, 100, 90, 82, 75, 68, 62, 57, 57, 54, 51, 47]\n"
          ]
        }
      ]
    },
    {
      "cell_type": "markdown",
      "source": [
        "#### Chart - 1"
      ],
      "metadata": {
        "id": "3eYF9thdE-lx"
      }
    },
    {
      "cell_type": "code",
      "source": [
        "# plotting bar plot\n",
        "plt.figure(figsize=(20,5))\n",
        "plt.xlabel(\"Category Type\", fontsize = 15)\n",
        "plt.ylabel(\"Numbers\", fontsize = 15)\n",
        "plt.xticks(rotation=90)\n",
        "category_graph = sns.barplot(x = name, y = counts)\n",
        "category_graph.set_title(\"Categories of all apps in playstore\", fontsize = 25);"
      ],
      "metadata": {
        "colab": {
          "base_uri": "https://localhost:8080/",
          "height": 480
        },
        "id": "k6swdicdrwKi",
        "outputId": "139b3d62-6774-41b0-e484-6f2074ea7373"
      },
      "execution_count": null,
      "outputs": [
        {
          "output_type": "display_data",
          "data": {
            "text/plain": [
              "<Figure size 1440x360 with 1 Axes>"
            ],
            "image/png": "[encoded data removed]"
          },
          "metadata": {
            "needs_background": "light"
          }
        }
      ]
    },
    {
      "cell_type": "markdown",
      "source": [
        "▶Based on the 33 categories data set result most application belong to Family,Game and Tools categories and least contribution of Comics and Beauty category in google play store. "
      ],
      "metadata": {
        "id": "lAuHZoZ6BGJO"
      }
    },
    {
      "cell_type": "code",
      "source": [
        "# if we took top 10 cataogries\n",
        "most_popular_category=df['Category'].value_counts().reset_index()\n",
        "most_popular_category.rename(columns={'index':'Category','Category':'number_of_apps'},inplace=True)\n",
        "most_popular_category=most_popular_category.iloc[0:10]\n",
        "most_popular_category\n"
      ],
      "metadata": {
        "colab": {
          "base_uri": "https://localhost:8080/",
          "height": 363
        },
        "id": "xfr2wec9u5DK",
        "outputId": "5d8a703a-2e20-43f8-c728-557342390446"
      },
      "execution_count": null,
      "outputs": [
        {
          "output_type": "execute_result",
          "data": {
            "text/plain": [
              "          Category  number_of_apps\n",
              "0           FAMILY            1832\n",
              "1             GAME            1015\n",
              "2            TOOLS             739\n",
              "3          MEDICAL             434\n",
              "4         BUSINESS             400\n",
              "5  PERSONALIZATION             355\n",
              "6        LIFESTYLE             345\n",
              "7           SPORTS             311\n",
              "8          FINANCE             307\n",
              "9     PRODUCTIVITY             303"
            ],
            "text/html": [
              "\n",
              "  <div id=\"df-efe6de90-a6c2-4caa-af82-8ab2b4adfc4e\">\n",
              "    <div class=\"colab-df-container\">\n",
              "      <div>\n",
              "<style scoped>\n",
              "    .dataframe tbody tr th:only-of-type {\n",
              "        vertical-align: middle;\n",
              "    }\n",
              "\n",
              "    .dataframe tbody tr th {\n",
              "        vertical-align: top;\n",
              "    }\n",
              "\n",
              "    .dataframe thead th {\n",
              "        text-align: right;\n",
              "    }\n",
              "</style>\n",
              "<table border=\"1\" class=\"dataframe\">\n",
              "  <thead>\n",
              "    <tr style=\"text-align: right;\">\n",
              "      <th></th>\n",
              "      <th>Category</th>\n",
              "      <th>number_of_apps</th>\n",
              "    </tr>\n",
              "  </thead>\n",
              "  <tbody>\n",
              "    <tr>\n",
              "      <th>0</th>\n",
              "      <td>FAMILY</td>\n",
              "      <td>1832</td>\n",
              "    </tr>\n",
              "    <tr>\n",
              "      <th>1</th>\n",
              "      <td>GAME</td>\n",
              "      <td>1015</td>\n",
              "    </tr>\n",
              "    <tr>\n",
              "      <th>2</th>\n",
              "      <td>TOOLS</td>\n",
              "      <td>739</td>\n",
              "    </tr>\n",
              "    <tr>\n",
              "      <th>3</th>\n",
              "      <td>MEDICAL</td>\n",
              "      <td>434</td>\n",
              "    </tr>\n",
              "    <tr>\n",
              "      <th>4</th>\n",
              "      <td>BUSINESS</td>\n",
              "      <td>400</td>\n",
              "    </tr>\n",
              "    <tr>\n",
              "      <th>5</th>\n",
              "      <td>PERSONALIZATION</td>\n",
              "      <td>355</td>\n",
              "    </tr>\n",
              "    <tr>\n",
              "      <th>6</th>\n",
              "      <td>LIFESTYLE</td>\n",
              "      <td>345</td>\n",
              "    </tr>\n",
              "    <tr>\n",
              "      <th>7</th>\n",
              "      <td>SPORTS</td>\n",
              "      <td>311</td>\n",
              "    </tr>\n",
              "    <tr>\n",
              "      <th>8</th>\n",
              "      <td>FINANCE</td>\n",
              "      <td>307</td>\n",
              "    </tr>\n",
              "    <tr>\n",
              "      <th>9</th>\n",
              "      <td>PRODUCTIVITY</td>\n",
              "      <td>303</td>\n",
              "    </tr>\n",
              "  </tbody>\n",
              "</table>\n",
              "</div>\n",
              "      <button class=\"colab-df-convert\" onclick=\"convertToInteractive('df-efe6de90-a6c2-4caa-af82-8ab2b4adfc4e')\"\n",
              "              title=\"Convert this dataframe to an interactive table.\"\n",
              "              style=\"display:none;\">\n",
              "        \n",
              "  <svg xmlns=\"http://www.w3.org/2000/svg\" height=\"24px\"viewBox=\"0 0 24 24\"\n",
              "       width=\"24px\">\n",
              "    <path d=\"M0 0h24v24H0V0z\" fill=\"none\"/>\n",
              "    <path d=\"M18.56 5.44l.94 2.06.94-2.06 2.06-.94-2.06-.94-.94-2.06-.94 2.06-2.06.94zm-11 1L8.5 8.5l.94-2.06 2.06-.94-2.06-.94L8.5 2.5l-.94 2.06-2.06.94zm10 10l.94 2.06.94-2.06 2.06-.94-2.06-.94-.94-2.06-.94 2.06-2.06.94z\"/><path d=\"M17.41 7.96l-1.37-1.37c-.4-.4-.92-.59-1.43-.59-.52 0-1.04.2-1.43.59L10.3 9.45l-7.72 7.72c-.78.78-.78 2.05 0 2.83L4 21.41c.39.39.9.59 1.41.59.51 0 1.02-.2 1.41-.59l7.78-7.78 2.81-2.81c.8-.78.8-2.07 0-2.86zM5.41 20L4 18.59l7.72-7.72 1.47 1.35L5.41 20z\"/>\n",
              "  </svg>\n",
              "      </button>\n",
              "      \n",
              "  <style>\n",
              "    .colab-df-container {\n",
              "      display:flex;\n",
              "      flex-wrap:wrap;\n",
              "      gap: 12px;\n",
              "    }\n",
              "\n",
              "    .colab-df-convert {\n",
              "      background-color: #E8F0FE;\n",
              "      border: none;\n",
              "      border-radius: 50%;\n",
              "      cursor: pointer;\n",
              "      display: none;\n",
              "      fill: #1967D2;\n",
              "      height: 32px;\n",
              "      padding: 0 0 0 0;\n",
              "      width: 32px;\n",
              "    }\n",
              "\n",
              "    .colab-df-convert:hover {\n",
              "      background-color: #E2EBFA;\n",
              "      box-shadow: 0px 1px 2px rgba(60, 64, 67, 0.3), 0px 1px 3px 1px rgba(60, 64, 67, 0.15);\n",
              "      fill: #174EA6;\n",
              "    }\n",
              "\n",
              "    [theme=dark] .colab-df-convert {\n",
              "      background-color: #3B4455;\n",
              "      fill: #D2E3FC;\n",
              "    }\n",
              "\n",
              "    [theme=dark] .colab-df-convert:hover {\n",
              "      background-color: #434B5C;\n",
              "      box-shadow: 0px 1px 3px 1px rgba(0, 0, 0, 0.15);\n",
              "      filter: drop-shadow(0px 1px 2px rgba(0, 0, 0, 0.3));\n",
              "      fill: #FFFFFF;\n",
              "    }\n",
              "  </style>\n",
              "\n",
              "      <script>\n",
              "        const buttonEl =\n",
              "          document.querySelector('#df-efe6de90-a6c2-4caa-af82-8ab2b4adfc4e button.colab-df-convert');\n",
              "        buttonEl.style.display =\n",
              "          google.colab.kernel.accessAllowed ? 'block' : 'none';\n",
              "\n",
              "        async function convertToInteractive(key) {\n",
              "          const element = document.querySelector('#df-efe6de90-a6c2-4caa-af82-8ab2b4adfc4e');\n",
              "          const dataTable =\n",
              "            await google.colab.kernel.invokeFunction('convertToInteractive',\n",
              "                                                     [key], {});\n",
              "          if (!dataTable) return;\n",
              "\n",
              "          const docLinkHtml = 'Like what you see? Visit the ' +\n",
              "            '<a target=\"_blank\" href=https://colab.research.google.com/notebooks/data_table.ipynb>data table notebook</a>'\n",
              "            + ' to learn more about interactive tables.';\n",
              "          element.innerHTML = '';\n",
              "          dataTable['output_type'] = 'display_data';\n",
              "          await google.colab.output.renderOutput(dataTable, element);\n",
              "          const docLink = document.createElement('div');\n",
              "          docLink.innerHTML = docLinkHtml;\n",
              "          element.appendChild(docLink);\n",
              "        }\n",
              "      </script>\n",
              "    </div>\n",
              "  </div>\n",
              "  "
            ]
          },
          "metadata": {},
          "execution_count": 32
        }
      ]
    },
    {
      "cell_type": "markdown",
      "source": [
        "#### Chart - 2"
      ],
      "metadata": {
        "id": "_jSv6FOfz2eA"
      }
    },
    {
      "cell_type": "code",
      "source": [
        "# plotting pie chart\n",
        "plt.figure(figsize=(10,8))\n",
        "plt.pie(most_popular_category['number_of_apps'],labels=most_popular_category['Category'],startangle=90,autopct='%2.0f%%',explode=[0.02]*10)\n",
        "plt.title('Play store app Categories', fontsize=30)\n",
        "plt.show()"
      ],
      "metadata": {
        "colab": {
          "base_uri": "https://localhost:8080/",
          "height": 495
        },
        "id": "9-90ufje0XvS",
        "outputId": "6e592670-fada-481a-b0e4-b4fd728122b4"
      },
      "execution_count": null,
      "outputs": [
        {
          "output_type": "display_data",
          "data": {
            "text/plain": [
              "<Figure size 720x576 with 1 Axes>"
            ],
            "image/png": "[encoded data removed]"
          },
          "metadata": {}
        }
      ]
    },
    {
      "cell_type": "markdown",
      "source": [
        "▶In top 10 categroies mostly 29% family,17% game contribute. "
      ],
      "metadata": {
        "id": "lL0ecQ68-HRO"
      }
    },
    {
      "cell_type": "code",
      "source": [
        "# determing top categories app vs installs\n",
        "grp=df.groupby('Category')\n",
        "x=grp['Installs'].agg(np.sum).reset_index()\n",
        "y=grp['Price'].agg(np.mean)\n",
        "z=grp['Reviews'].agg(np.mean)"
      ],
      "metadata": {
        "id": "Saw0si-eDpyf"
      },
      "execution_count": null,
      "outputs": []
    },
    {
      "cell_type": "code",
      "source": [
        "x\n"
      ],
      "metadata": {
        "colab": {
          "base_uri": "https://localhost:8080/",
          "height": 1000
        },
        "id": "1yv_Efqa39-_",
        "outputId": "3c8db270-5478-487a-bce9-e2dcfa9db936"
      },
      "execution_count": null,
      "outputs": [
        {
          "output_type": "execute_result",
          "data": {
            "text/plain": [
              "               Category      Installs\n",
              "0        ART_AND_DESIGN  9.933810e+07\n",
              "1     AUTO_AND_VEHICLES  4.377021e+07\n",
              "2                BEAUTY  1.369695e+07\n",
              "3   BOOKS_AND_REFERENCE  1.399621e+08\n",
              "4              BUSINESS  5.360786e+08\n",
              "5                COMICS  1.758615e+07\n",
              "6         COMMUNICATION  4.941943e+09\n",
              "7                DATING  1.418808e+08\n",
              "8             EDUCATION  2.788020e+08\n",
              "9         ENTERTAINMENT  9.509600e+08\n",
              "10               EVENTS  1.067215e+07\n",
              "11               FAMILY  6.798793e+09\n",
              "12              FINANCE  3.169235e+08\n",
              "13       FOOD_AND_DRINK  1.776887e+08\n",
              "14                 GAME  2.987456e+10\n",
              "15   HEALTH_AND_FITNESS  8.684119e+08\n",
              "16       HOUSE_AND_HOME  7.511246e+07\n",
              "17   LIBRARIES_AND_DEMO  6.189591e+07\n",
              "18            LIFESTYLE  4.378208e+08\n",
              "19  MAPS_AND_NAVIGATION  1.750299e+08\n",
              "20              MEDICAL  4.654388e+07\n",
              "21   NEWS_AND_MAGAZINES  4.252006e+09\n",
              "22            PARENTING  2.397101e+07\n",
              "23      PERSONALIZATION  9.981798e+08\n",
              "24          PHOTOGRAPHY  2.557898e+09\n",
              "25         PRODUCTIVITY  2.742313e+09\n",
              "26             SHOPPING  1.504249e+09\n",
              "27               SOCIAL  9.252648e+08\n",
              "28               SPORTS  1.138949e+09\n",
              "29                TOOLS  3.527095e+09\n",
              "30     TRAVEL_AND_LOCAL  3.566661e+08\n",
              "31        VIDEO_PLAYERS  8.918677e+08\n",
              "32              WEATHER  1.393000e+08"
            ],
            "text/html": [
              "\n",
              "  <div id=\"df-28f89a78-8f1b-49d7-8175-36e793df0142\">\n",
              "    <div class=\"colab-df-container\">\n",
              "      <div>\n",
              "<style scoped>\n",
              "    .dataframe tbody tr th:only-of-type {\n",
              "        vertical-align: middle;\n",
              "    }\n",
              "\n",
              "    .dataframe tbody tr th {\n",
              "        vertical-align: top;\n",
              "    }\n",
              "\n",
              "    .dataframe thead th {\n",
              "        text-align: right;\n",
              "    }\n",
              "</style>\n",
              "<table border=\"1\" class=\"dataframe\">\n",
              "  <thead>\n",
              "    <tr style=\"text-align: right;\">\n",
              "      <th></th>\n",
              "      <th>Category</th>\n",
              "      <th>Installs</th>\n",
              "    </tr>\n",
              "  </thead>\n",
              "  <tbody>\n",
              "    <tr>\n",
              "      <th>0</th>\n",
              "      <td>ART_AND_DESIGN</td>\n",
              "      <td>9.933810e+07</td>\n",
              "    </tr>\n",
              "    <tr>\n",
              "      <th>1</th>\n",
              "      <td>AUTO_AND_VEHICLES</td>\n",
              "      <td>4.377021e+07</td>\n",
              "    </tr>\n",
              "    <tr>\n",
              "      <th>2</th>\n",
              "      <td>BEAUTY</td>\n",
              "      <td>1.369695e+07</td>\n",
              "    </tr>\n",
              "    <tr>\n",
              "      <th>3</th>\n",
              "      <td>BOOKS_AND_REFERENCE</td>\n",
              "      <td>1.399621e+08</td>\n",
              "    </tr>\n",
              "    <tr>\n",
              "      <th>4</th>\n",
              "      <td>BUSINESS</td>\n",
              "      <td>5.360786e+08</td>\n",
              "    </tr>\n",
              "    <tr>\n",
              "      <th>5</th>\n",
              "      <td>COMICS</td>\n",
              "      <td>1.758615e+07</td>\n",
              "    </tr>\n",
              "    <tr>\n",
              "      <th>6</th>\n",
              "      <td>COMMUNICATION</td>\n",
              "      <td>4.941943e+09</td>\n",
              "    </tr>\n",
              "    <tr>\n",
              "      <th>7</th>\n",
              "      <td>DATING</td>\n",
              "      <td>1.418808e+08</td>\n",
              "    </tr>\n",
              "    <tr>\n",
              "      <th>8</th>\n",
              "      <td>EDUCATION</td>\n",
              "      <td>2.788020e+08</td>\n",
              "    </tr>\n",
              "    <tr>\n",
              "      <th>9</th>\n",
              "      <td>ENTERTAINMENT</td>\n",
              "      <td>9.509600e+08</td>\n",
              "    </tr>\n",
              "    <tr>\n",
              "      <th>10</th>\n",
              "      <td>EVENTS</td>\n",
              "      <td>1.067215e+07</td>\n",
              "    </tr>\n",
              "    <tr>\n",
              "      <th>11</th>\n",
              "      <td>FAMILY</td>\n",
              "      <td>6.798793e+09</td>\n",
              "    </tr>\n",
              "    <tr>\n",
              "      <th>12</th>\n",
              "      <td>FINANCE</td>\n",
              "      <td>3.169235e+08</td>\n",
              "    </tr>\n",
              "    <tr>\n",
              "      <th>13</th>\n",
              "      <td>FOOD_AND_DRINK</td>\n",
              "      <td>1.776887e+08</td>\n",
              "    </tr>\n",
              "    <tr>\n",
              "      <th>14</th>\n",
              "      <td>GAME</td>\n",
              "      <td>2.987456e+10</td>\n",
              "    </tr>\n",
              "    <tr>\n",
              "      <th>15</th>\n",
              "      <td>HEALTH_AND_FITNESS</td>\n",
              "      <td>8.684119e+08</td>\n",
              "    </tr>\n",
              "    <tr>\n",
              "      <th>16</th>\n",
              "      <td>HOUSE_AND_HOME</td>\n",
              "      <td>7.511246e+07</td>\n",
              "    </tr>\n",
              "    <tr>\n",
              "      <th>17</th>\n",
              "      <td>LIBRARIES_AND_DEMO</td>\n",
              "      <td>6.189591e+07</td>\n",
              "    </tr>\n",
              "    <tr>\n",
              "      <th>18</th>\n",
              "      <td>LIFESTYLE</td>\n",
              "      <td>4.378208e+08</td>\n",
              "    </tr>\n",
              "    <tr>\n",
              "      <th>19</th>\n",
              "      <td>MAPS_AND_NAVIGATION</td>\n",
              "      <td>1.750299e+08</td>\n",
              "    </tr>\n",
              "    <tr>\n",
              "      <th>20</th>\n",
              "      <td>MEDICAL</td>\n",
              "      <td>4.654388e+07</td>\n",
              "    </tr>\n",
              "    <tr>\n",
              "      <th>21</th>\n",
              "      <td>NEWS_AND_MAGAZINES</td>\n",
              "      <td>4.252006e+09</td>\n",
              "    </tr>\n",
              "    <tr>\n",
              "      <th>22</th>\n",
              "      <td>PARENTING</td>\n",
              "      <td>2.397101e+07</td>\n",
              "    </tr>\n",
              "    <tr>\n",
              "      <th>23</th>\n",
              "      <td>PERSONALIZATION</td>\n",
              "      <td>9.981798e+08</td>\n",
              "    </tr>\n",
              "    <tr>\n",
              "      <th>24</th>\n",
              "      <td>PHOTOGRAPHY</td>\n",
              "      <td>2.557898e+09</td>\n",
              "    </tr>\n",
              "    <tr>\n",
              "      <th>25</th>\n",
              "      <td>PRODUCTIVITY</td>\n",
              "      <td>2.742313e+09</td>\n",
              "    </tr>\n",
              "    <tr>\n",
              "      <th>26</th>\n",
              "      <td>SHOPPING</td>\n",
              "      <td>1.504249e+09</td>\n",
              "    </tr>\n",
              "    <tr>\n",
              "      <th>27</th>\n",
              "      <td>SOCIAL</td>\n",
              "      <td>9.252648e+08</td>\n",
              "    </tr>\n",
              "    <tr>\n",
              "      <th>28</th>\n",
              "      <td>SPORTS</td>\n",
              "      <td>1.138949e+09</td>\n",
              "    </tr>\n",
              "    <tr>\n",
              "      <th>29</th>\n",
              "      <td>TOOLS</td>\n",
              "      <td>3.527095e+09</td>\n",
              "    </tr>\n",
              "    <tr>\n",
              "      <th>30</th>\n",
              "      <td>TRAVEL_AND_LOCAL</td>\n",
              "      <td>3.566661e+08</td>\n",
              "    </tr>\n",
              "    <tr>\n",
              "      <th>31</th>\n",
              "      <td>VIDEO_PLAYERS</td>\n",
              "      <td>8.918677e+08</td>\n",
              "    </tr>\n",
              "    <tr>\n",
              "      <th>32</th>\n",
              "      <td>WEATHER</td>\n",
              "      <td>1.393000e+08</td>\n",
              "    </tr>\n",
              "  </tbody>\n",
              "</table>\n",
              "</div>\n",
              "      <button class=\"colab-df-convert\" onclick=\"convertToInteractive('df-28f89a78-8f1b-49d7-8175-36e793df0142')\"\n",
              "              title=\"Convert this dataframe to an interactive table.\"\n",
              "              style=\"display:none;\">\n",
              "        \n",
              "  <svg xmlns=\"http://www.w3.org/2000/svg\" height=\"24px\"viewBox=\"0 0 24 24\"\n",
              "       width=\"24px\">\n",
              "    <path d=\"M0 0h24v24H0V0z\" fill=\"none\"/>\n",
              "    <path d=\"M18.56 5.44l.94 2.06.94-2.06 2.06-.94-2.06-.94-.94-2.06-.94 2.06-2.06.94zm-11 1L8.5 8.5l.94-2.06 2.06-.94-2.06-.94L8.5 2.5l-.94 2.06-2.06.94zm10 10l.94 2.06.94-2.06 2.06-.94-2.06-.94-.94-2.06-.94 2.06-2.06.94z\"/><path d=\"M17.41 7.96l-1.37-1.37c-.4-.4-.92-.59-1.43-.59-.52 0-1.04.2-1.43.59L10.3 9.45l-7.72 7.72c-.78.78-.78 2.05 0 2.83L4 21.41c.39.39.9.59 1.41.59.51 0 1.02-.2 1.41-.59l7.78-7.78 2.81-2.81c.8-.78.8-2.07 0-2.86zM5.41 20L4 18.59l7.72-7.72 1.47 1.35L5.41 20z\"/>\n",
              "  </svg>\n",
              "      </button>\n",
              "      \n",
              "  <style>\n",
              "    .colab-df-container {\n",
              "      display:flex;\n",
              "      flex-wrap:wrap;\n",
              "      gap: 12px;\n",
              "    }\n",
              "\n",
              "    .colab-df-convert {\n",
              "      background-color: #E8F0FE;\n",
              "      border: none;\n",
              "      border-radius: 50%;\n",
              "      cursor: pointer;\n",
              "      display: none;\n",
              "      fill: #1967D2;\n",
              "      height: 32px;\n",
              "      padding: 0 0 0 0;\n",
              "      width: 32px;\n",
              "    }\n",
              "\n",
              "    .colab-df-convert:hover {\n",
              "      background-color: #E2EBFA;\n",
              "      box-shadow: 0px 1px 2px rgba(60, 64, 67, 0.3), 0px 1px 3px 1px rgba(60, 64, 67, 0.15);\n",
              "      fill: #174EA6;\n",
              "    }\n",
              "\n",
              "    [theme=dark] .colab-df-convert {\n",
              "      background-color: #3B4455;\n",
              "      fill: #D2E3FC;\n",
              "    }\n",
              "\n",
              "    [theme=dark] .colab-df-convert:hover {\n",
              "      background-color: #434B5C;\n",
              "      box-shadow: 0px 1px 3px 1px rgba(0, 0, 0, 0.15);\n",
              "      filter: drop-shadow(0px 1px 2px rgba(0, 0, 0, 0.3));\n",
              "      fill: #FFFFFF;\n",
              "    }\n",
              "  </style>\n",
              "\n",
              "      <script>\n",
              "        const buttonEl =\n",
              "          document.querySelector('#df-28f89a78-8f1b-49d7-8175-36e793df0142 button.colab-df-convert');\n",
              "        buttonEl.style.display =\n",
              "          google.colab.kernel.accessAllowed ? 'block' : 'none';\n",
              "\n",
              "        async function convertToInteractive(key) {\n",
              "          const element = document.querySelector('#df-28f89a78-8f1b-49d7-8175-36e793df0142');\n",
              "          const dataTable =\n",
              "            await google.colab.kernel.invokeFunction('convertToInteractive',\n",
              "                                                     [key], {});\n",
              "          if (!dataTable) return;\n",
              "\n",
              "          const docLinkHtml = 'Like what you see? Visit the ' +\n",
              "            '<a target=\"_blank\" href=https://colab.research.google.com/notebooks/data_table.ipynb>data table notebook</a>'\n",
              "            + ' to learn more about interactive tables.';\n",
              "          element.innerHTML = '';\n",
              "          dataTable['output_type'] = 'display_data';\n",
              "          await google.colab.output.renderOutput(dataTable, element);\n",
              "          const docLink = document.createElement('div');\n",
              "          docLink.innerHTML = docLinkHtml;\n",
              "          element.appendChild(docLink);\n",
              "        }\n",
              "      </script>\n",
              "    </div>\n",
              "  </div>\n",
              "  "
            ]
          },
          "metadata": {},
          "execution_count": 111
        }
      ]
    },
    {
      "cell_type": "code",
      "source": [
        "print(y)"
      ],
      "metadata": {
        "id": "yP1TIW8B4DzJ"
      },
      "execution_count": null,
      "outputs": []
    },
    {
      "cell_type": "code",
      "source": [
        "print(z)"
      ],
      "metadata": {
        "id": "4XC02DYY4FxE"
      },
      "execution_count": null,
      "outputs": []
    },
    {
      "cell_type": "markdown",
      "source": [
        "#### Chart - 3\n"
      ],
      "metadata": {
        "id": "cqNhK9SHFjCC"
      }
    },
    {
      "cell_type": "code",
      "source": [
        "# plotting bar plot\n",
        "plt.figure(figsize=(14,4))\n",
        "sns.barplot(x='Category',y='Installs',data=x)\n",
        "plt.xticks(rotation=90)\n",
        "plt.title('Categories Vs Installs',fontsize=30)\n",
        "plt.xlabel('Categories---------',fontsize=20)\n",
        "plt.ylabel('Installs---------',fontsize=20)\n",
        "plt.show()"
      ],
      "metadata": {
        "colab": {
          "base_uri": "https://localhost:8080/",
          "height": 433
        },
        "id": "z-aUgAfb4QY4",
        "outputId": "096299e8-a34f-4e9c-dee7-e403fc9f7a3f"
      },
      "execution_count": null,
      "outputs": [
        {
          "output_type": "display_data",
          "data": {
            "text/plain": [
              "<Figure size 1008x288 with 1 Axes>"
            ],
            "image/png": "[encoded data removed]"
          },
          "metadata": {
            "needs_background": "light"
          }
        }
      ]
    },
    {
      "cell_type": "markdown",
      "source": [
        "▶The most installed category is Game."
      ],
      "metadata": {
        "id": "0DEjpnV51hMT"
      }
    },
    {
      "cell_type": "markdown",
      "source": [
        "#### Chart - 4"
      ],
      "metadata": {
        "id": "9HXdV3FfFpVy"
      }
    },
    {
      "cell_type": "code",
      "source": [
        "# plot for categories vs pricing\n",
        "plt.figure(figsize=(14,4))\n",
        "plt.plot(y,'r--',color='g')\n",
        "plt.xticks(rotation=90)\n",
        "plt.title('Categories Vs Pricing',fontsize=30)\n",
        "plt.xlabel('Categories---------',fontsize=20)\n",
        "plt.ylabel('Price---------',fontsize=20)\n",
        "plt.show()"
      ],
      "metadata": {
        "colab": {
          "base_uri": "https://localhost:8080/",
          "height": 433
        },
        "id": "jQOXQUNnIh-n",
        "outputId": "85319569-331e-4e7d-e52b-871854db41d0"
      },
      "execution_count": null,
      "outputs": [
        {
          "output_type": "display_data",
          "data": {
            "text/plain": [
              "<Figure size 1008x288 with 1 Axes>"
            ],
            "image/png": "[encoded data removed]"
          },
          "metadata": {
            "needs_background": "light"
          }
        }
      ]
    },
    {
      "cell_type": "markdown",
      "source": [
        "▶by above graph it visulize that the prices are high of apps who belong to Finance and Lifestyle cateogries"
      ],
      "metadata": {
        "id": "8GPJnLoU0IL-"
      }
    },
    {
      "cell_type": "markdown",
      "source": [
        "#### Chart - 5"
      ],
      "metadata": {
        "id": "MerqEpZpFsph"
      }
    },
    {
      "cell_type": "code",
      "source": [
        "# plot for categories vs reviews\n",
        "plt.figure(figsize=(14,3))\n",
        "plt.plot(z,'g^',color='b')\n",
        "plt.xticks(rotation=90)\n",
        "plt.title('Categories Vs Reviews',fontsize=30)\n",
        "plt.xlabel('Categories---------',fontsize=20)\n",
        "plt.ylabel('Reviews---------',fontsize=20)\n",
        "plt.show()"
      ],
      "metadata": {
        "colab": {
          "base_uri": "https://localhost:8080/",
          "height": 379
        },
        "id": "uYHIz8oXJAc8",
        "outputId": "b3949a74-8746-45ec-8b24-c8b7d0ed55a1"
      },
      "execution_count": null,
      "outputs": [
        {
          "output_type": "display_data",
          "data": {
            "text/plain": [
              "<Figure size 1008x216 with 1 Axes>"
            ],
            "image/png": "[encoded data removed]"
          },
          "metadata": {
            "needs_background": "light"
          }
        }
      ]
    },
    {
      "cell_type": "markdown",
      "source": [
        "▶The reviews are Game categories app is so high."
      ],
      "metadata": {
        "id": "pK0lOaqY1HpN"
      }
    },
    {
      "cell_type": "markdown",
      "source": [
        "#Type of app- free vs paid"
      ],
      "metadata": {
        "id": "u8jMHF7NOHC9"
      }
    },
    {
      "cell_type": "code",
      "source": [
        "app_type=df['Type'].value_counts(sort=True).index\n",
        "app_type"
      ],
      "metadata": {
        "colab": {
          "base_uri": "https://localhost:8080/"
        },
        "id": "QcYQbuAUSmEt",
        "outputId": "a2c7f46e-4eb4-4c65-fa80-12f7113a176a"
      },
      "execution_count": null,
      "outputs": [
        {
          "output_type": "execute_result",
          "data": {
            "text/plain": [
              "Index(['Free', 'Paid'], dtype='object')"
            ]
          },
          "metadata": {},
          "execution_count": 35
        }
      ]
    },
    {
      "cell_type": "code",
      "source": [
        "app=df['Type'].value_counts(sort=True)\n",
        "app"
      ],
      "metadata": {
        "colab": {
          "base_uri": "https://localhost:8080/"
        },
        "id": "lOrMWoweVhfm",
        "outputId": "3c0b9618-edbe-464d-df00-3eae1846fbfe"
      },
      "execution_count": null,
      "outputs": [
        {
          "output_type": "execute_result",
          "data": {
            "text/plain": [
              "Free    8421\n",
              "Paid     724\n",
              "Name: Type, dtype: int64"
            ]
          },
          "metadata": {},
          "execution_count": 36
        }
      ]
    },
    {
      "cell_type": "markdown",
      "source": [
        "#### Chart - 6"
      ],
      "metadata": {
        "id": "oHl6gVuzFyLV"
      }
    },
    {
      "cell_type": "code",
      "source": [
        "plt.figure(figsize=(10,8))\n",
        "plt.pie(app,labels=app_type,autopct='%2.0f%%',explode=[0,0.2],colors=['pink','blue'],shadow=True)\n",
        "plt.title('comparison of free vs paid app',fontsize=25)\n",
        "plt.show()"
      ],
      "metadata": {
        "colab": {
          "base_uri": "https://localhost:8080/",
          "height": 491
        },
        "id": "H9O4UUfXV8gN",
        "outputId": "a014fb5d-75ab-4be4-ae1d-d9038f18f9ec"
      },
      "execution_count": null,
      "outputs": [
        {
          "output_type": "display_data",
          "data": {
            "text/plain": [
              "<Figure size 720x576 with 1 Axes>"
            ],
            "image/png": "[encoded data removed]"
          },
          "metadata": {}
        }
      ]
    },
    {
      "cell_type": "markdown",
      "source": [
        "▶by this pie chart 93% app are free."
      ],
      "metadata": {
        "id": "PnzOSHw4achv"
      }
    },
    {
      "cell_type": "markdown",
      "source": [
        "#Most installed app in Game Category"
      ],
      "metadata": {
        "id": "nQ7hQiWKufyp"
      }
    },
    {
      "cell_type": "markdown",
      "source": [
        "#### Chart - 7"
      ],
      "metadata": {
        "id": "55kmempMF3Pf"
      }
    },
    {
      "cell_type": "code",
      "source": [
        "# for mosted installed game app\n",
        "def top_apps_in_category(str):\n",
        "  top = df[df['Category'] == str]\n",
        "  top_apps = top.sort_values(by='Installs', ascending=False).head(10)\n",
        "# Top apps from GAME\n",
        "  plt.figure(figsize=(12,8))\n",
        "  plt.title('Top Installed Apps(GAME)',size = 20)    \n",
        "  graph = sns.barplot(x = top_apps.App, y = top_apps.Installs)\n",
        "  graph.set_xticklabels(graph.get_xticklabels(), rotation= 45, horizontalalignment='right')"
      ],
      "metadata": {
        "id": "9iipvz8Vt7CA"
      },
      "execution_count": null,
      "outputs": []
    },
    {
      "cell_type": "code",
      "source": [
        "top_apps_in_category('GAME')"
      ],
      "metadata": {
        "colab": {
          "base_uri": "https://localhost:8080/",
          "height": 580
        },
        "id": "y4g0FdoxuNYV",
        "outputId": "13675721-7832-471f-aaa0-9b91c3fd9b47"
      },
      "execution_count": null,
      "outputs": [
        {
          "output_type": "display_data",
          "data": {
            "text/plain": [
              "<Figure size 864x576 with 1 Axes>"
            ],
            "image/png": "[encoded data removed]"
          },
          "metadata": {
            "needs_background": "light"
          }
        }
      ]
    },
    {
      "cell_type": "markdown",
      "source": [
        "#Let's find correlation between the columns.\n"
      ],
      "metadata": {
        "id": "yu4mB-kBZV8_"
      }
    },
    {
      "cell_type": "markdown",
      "source": [
        "#### Chart - 8"
      ],
      "metadata": {
        "id": "uqbfacBNF6sR"
      }
    },
    {
      "cell_type": "code",
      "source": [
        "# for correlation between numeric column\n",
        "df.corr()\n"
      ],
      "metadata": {
        "colab": {
          "base_uri": "https://localhost:8080/",
          "height": 206
        },
        "id": "3kki-0wZZiVG",
        "outputId": "f31a7774-33ab-4479-8842-ff9c5edeab84"
      },
      "execution_count": null,
      "outputs": [
        {
          "output_type": "execute_result",
          "data": {
            "text/plain": [
              "            Rating   Reviews      Size  Installs     Price\n",
              "Rating    1.000000  0.073701  0.066039  0.046391 -0.018861\n",
              "Reviews   0.073701  1.000000  0.238214  0.627720 -0.009839\n",
              "Size      0.066039  0.238214  1.000000  0.164787 -0.023007\n",
              "Installs  0.046391  0.627720  0.164787  1.000000 -0.010481\n",
              "Price    -0.018861 -0.009839 -0.023007 -0.010481  1.000000"
            ],
            "text/html": [
              "\n",
              "  <div id=\"df-8880e177-01e0-45d8-9533-73566e128183\">\n",
              "    <div class=\"colab-df-container\">\n",
              "      <div>\n",
              "<style scoped>\n",
              "    .dataframe tbody tr th:only-of-type {\n",
              "        vertical-align: middle;\n",
              "    }\n",
              "\n",
              "    .dataframe tbody tr th {\n",
              "        vertical-align: top;\n",
              "    }\n",
              "\n",
              "    .dataframe thead th {\n",
              "        text-align: right;\n",
              "    }\n",
              "</style>\n",
              "<table border=\"1\" class=\"dataframe\">\n",
              "  <thead>\n",
              "    <tr style=\"text-align: right;\">\n",
              "      <th></th>\n",
              "      <th>Rating</th>\n",
              "      <th>Reviews</th>\n",
              "      <th>Size</th>\n",
              "      <th>Installs</th>\n",
              "      <th>Price</th>\n",
              "    </tr>\n",
              "  </thead>\n",
              "  <tbody>\n",
              "    <tr>\n",
              "      <th>Rating</th>\n",
              "      <td>1.000000</td>\n",
              "      <td>0.073701</td>\n",
              "      <td>0.066039</td>\n",
              "      <td>0.046391</td>\n",
              "      <td>-0.018861</td>\n",
              "    </tr>\n",
              "    <tr>\n",
              "      <th>Reviews</th>\n",
              "      <td>0.073701</td>\n",
              "      <td>1.000000</td>\n",
              "      <td>0.238214</td>\n",
              "      <td>0.627720</td>\n",
              "      <td>-0.009839</td>\n",
              "    </tr>\n",
              "    <tr>\n",
              "      <th>Size</th>\n",
              "      <td>0.066039</td>\n",
              "      <td>0.238214</td>\n",
              "      <td>1.000000</td>\n",
              "      <td>0.164787</td>\n",
              "      <td>-0.023007</td>\n",
              "    </tr>\n",
              "    <tr>\n",
              "      <th>Installs</th>\n",
              "      <td>0.046391</td>\n",
              "      <td>0.627720</td>\n",
              "      <td>0.164787</td>\n",
              "      <td>1.000000</td>\n",
              "      <td>-0.010481</td>\n",
              "    </tr>\n",
              "    <tr>\n",
              "      <th>Price</th>\n",
              "      <td>-0.018861</td>\n",
              "      <td>-0.009839</td>\n",
              "      <td>-0.023007</td>\n",
              "      <td>-0.010481</td>\n",
              "      <td>1.000000</td>\n",
              "    </tr>\n",
              "  </tbody>\n",
              "</table>\n",
              "</div>\n",
              "      <button class=\"colab-df-convert\" onclick=\"convertToInteractive('df-8880e177-01e0-45d8-9533-73566e128183')\"\n",
              "              title=\"Convert this dataframe to an interactive table.\"\n",
              "              style=\"display:none;\">\n",
              "        \n",
              "  <svg xmlns=\"http://www.w3.org/2000/svg\" height=\"24px\"viewBox=\"0 0 24 24\"\n",
              "       width=\"24px\">\n",
              "    <path d=\"M0 0h24v24H0V0z\" fill=\"none\"/>\n",
              "    <path d=\"M18.56 5.44l.94 2.06.94-2.06 2.06-.94-2.06-.94-.94-2.06-.94 2.06-2.06.94zm-11 1L8.5 8.5l.94-2.06 2.06-.94-2.06-.94L8.5 2.5l-.94 2.06-2.06.94zm10 10l.94 2.06.94-2.06 2.06-.94-2.06-.94-.94-2.06-.94 2.06-2.06.94z\"/><path d=\"M17.41 7.96l-1.37-1.37c-.4-.4-.92-.59-1.43-.59-.52 0-1.04.2-1.43.59L10.3 9.45l-7.72 7.72c-.78.78-.78 2.05 0 2.83L4 21.41c.39.39.9.59 1.41.59.51 0 1.02-.2 1.41-.59l7.78-7.78 2.81-2.81c.8-.78.8-2.07 0-2.86zM5.41 20L4 18.59l7.72-7.72 1.47 1.35L5.41 20z\"/>\n",
              "  </svg>\n",
              "      </button>\n",
              "      \n",
              "  <style>\n",
              "    .colab-df-container {\n",
              "      display:flex;\n",
              "      flex-wrap:wrap;\n",
              "      gap: 12px;\n",
              "    }\n",
              "\n",
              "    .colab-df-convert {\n",
              "      background-color: #E8F0FE;\n",
              "      border: none;\n",
              "      border-radius: 50%;\n",
              "      cursor: pointer;\n",
              "      display: none;\n",
              "      fill: #1967D2;\n",
              "      height: 32px;\n",
              "      padding: 0 0 0 0;\n",
              "      width: 32px;\n",
              "    }\n",
              "\n",
              "    .colab-df-convert:hover {\n",
              "      background-color: #E2EBFA;\n",
              "      box-shadow: 0px 1px 2px rgba(60, 64, 67, 0.3), 0px 1px 3px 1px rgba(60, 64, 67, 0.15);\n",
              "      fill: #174EA6;\n",
              "    }\n",
              "\n",
              "    [theme=dark] .colab-df-convert {\n",
              "      background-color: #3B4455;\n",
              "      fill: #D2E3FC;\n",
              "    }\n",
              "\n",
              "    [theme=dark] .colab-df-convert:hover {\n",
              "      background-color: #434B5C;\n",
              "      box-shadow: 0px 1px 3px 1px rgba(0, 0, 0, 0.15);\n",
              "      filter: drop-shadow(0px 1px 2px rgba(0, 0, 0, 0.3));\n",
              "      fill: #FFFFFF;\n",
              "    }\n",
              "  </style>\n",
              "\n",
              "      <script>\n",
              "        const buttonEl =\n",
              "          document.querySelector('#df-8880e177-01e0-45d8-9533-73566e128183 button.colab-df-convert');\n",
              "        buttonEl.style.display =\n",
              "          google.colab.kernel.accessAllowed ? 'block' : 'none';\n",
              "\n",
              "        async function convertToInteractive(key) {\n",
              "          const element = document.querySelector('#df-8880e177-01e0-45d8-9533-73566e128183');\n",
              "          const dataTable =\n",
              "            await google.colab.kernel.invokeFunction('convertToInteractive',\n",
              "                                                     [key], {});\n",
              "          if (!dataTable) return;\n",
              "\n",
              "          const docLinkHtml = 'Like what you see? Visit the ' +\n",
              "            '<a target=\"_blank\" href=https://colab.research.google.com/notebooks/data_table.ipynb>data table notebook</a>'\n",
              "            + ' to learn more about interactive tables.';\n",
              "          element.innerHTML = '';\n",
              "          dataTable['output_type'] = 'display_data';\n",
              "          await google.colab.output.renderOutput(dataTable, element);\n",
              "          const docLink = document.createElement('div');\n",
              "          docLink.innerHTML = docLinkHtml;\n",
              "          element.appendChild(docLink);\n",
              "        }\n",
              "      </script>\n",
              "    </div>\n",
              "  </div>\n",
              "  "
            ]
          },
          "metadata": {},
          "execution_count": 38
        }
      ]
    },
    {
      "cell_type": "code",
      "source": [
        "# plotting correlation heatmap\n",
        "plt.figure(figsize=(8,6))\n",
        "sns.heatmap(df.corr(),annot=True,linewidths=0.4,fmt='.2')\n",
        "plt.show()"
      ],
      "metadata": {
        "colab": {
          "base_uri": "https://localhost:8080/",
          "height": 378
        },
        "id": "PWeh0P_QbwrN",
        "outputId": "7cad8d01-02f9-4012-fbc9-ee61770bfaaf"
      },
      "execution_count": null,
      "outputs": [
        {
          "output_type": "display_data",
          "data": {
            "text/plain": [
              "<Figure size 576x432 with 2 Axes>"
            ],
            "image/png": "[encoded data removed]"
          },
          "metadata": {
            "needs_background": "light"
          }
        }
      ]
    },
    {
      "cell_type": "markdown",
      "source": [
        "#### Chart - 9"
      ],
      "metadata": {
        "id": "RrT6Eu1dF_cD"
      }
    },
    {
      "cell_type": "code",
      "source": [
        "#Regression Plot Of Installs And Reviews\n",
        "plt.figure(figsize = (10,6))\n",
        "sns.regplot(x=\"Installs\",y=\"Reviews\",data=df,color='maroon')\n",
        "plt.title(\"Regression Plot of Installs And Reviews\",fontsize=25)\n",
        "plt.grid()\n"
      ],
      "metadata": {
        "colab": {
          "base_uri": "https://localhost:8080/",
          "height": 413
        },
        "id": "3B8a_uCIrw2d",
        "outputId": "ead24988-8391-4779-cab9-99384c7e7b51"
      },
      "execution_count": null,
      "outputs": [
        {
          "output_type": "display_data",
          "data": {
            "text/plain": [
              "<Figure size 720x432 with 1 Axes>"
            ],
            "image/png": "[encoded data removed]"
          },
          "metadata": {
            "needs_background": "light"
          }
        }
      ]
    },
    {
      "cell_type": "markdown",
      "source": [
        "▶By above heatmap,Regression plot it clearly seen that Installs and Reviews are highly corelated."
      ],
      "metadata": {
        "id": "FiUrdmEOfJ3q"
      }
    },
    {
      "cell_type": "markdown",
      "source": [
        "#Content Rating"
      ],
      "metadata": {
        "id": "hzoA2oZ4vIp5"
      }
    },
    {
      "cell_type": "code",
      "source": [
        "# for determing content rating vs age group\n",
        "age_rating=df['Content Rating'].value_counts().reset_index().rename(columns={'index':'Age_group'})\n",
        "age_rating\n"
      ],
      "metadata": {
        "colab": {
          "base_uri": "https://localhost:8080/",
          "height": 238
        },
        "id": "Iw1750RO4nLf",
        "outputId": "eba211d0-6d88-42d9-9af1-5a8c0466d319"
      },
      "execution_count": null,
      "outputs": [
        {
          "output_type": "execute_result",
          "data": {
            "text/plain": [
              "         Age_group  Content Rating\n",
              "0         Everyone            7416\n",
              "1             Teen             987\n",
              "2       Mature 17+             406\n",
              "3     Everyone 10+             332\n",
              "4  Adults only 18+               2\n",
              "5          Unrated               2"
            ],
            "text/html": [
              "\n",
              "  <div id=\"df-aa23d2e9-af3d-44d9-ae0c-bcd55c5e389c\">\n",
              "    <div class=\"colab-df-container\">\n",
              "      <div>\n",
              "<style scoped>\n",
              "    .dataframe tbody tr th:only-of-type {\n",
              "        vertical-align: middle;\n",
              "    }\n",
              "\n",
              "    .dataframe tbody tr th {\n",
              "        vertical-align: top;\n",
              "    }\n",
              "\n",
              "    .dataframe thead th {\n",
              "        text-align: right;\n",
              "    }\n",
              "</style>\n",
              "<table border=\"1\" class=\"dataframe\">\n",
              "  <thead>\n",
              "    <tr style=\"text-align: right;\">\n",
              "      <th></th>\n",
              "      <th>Age_group</th>\n",
              "      <th>Content Rating</th>\n",
              "    </tr>\n",
              "  </thead>\n",
              "  <tbody>\n",
              "    <tr>\n",
              "      <th>0</th>\n",
              "      <td>Everyone</td>\n",
              "      <td>7416</td>\n",
              "    </tr>\n",
              "    <tr>\n",
              "      <th>1</th>\n",
              "      <td>Teen</td>\n",
              "      <td>987</td>\n",
              "    </tr>\n",
              "    <tr>\n",
              "      <th>2</th>\n",
              "      <td>Mature 17+</td>\n",
              "      <td>406</td>\n",
              "    </tr>\n",
              "    <tr>\n",
              "      <th>3</th>\n",
              "      <td>Everyone 10+</td>\n",
              "      <td>332</td>\n",
              "    </tr>\n",
              "    <tr>\n",
              "      <th>4</th>\n",
              "      <td>Adults only 18+</td>\n",
              "      <td>2</td>\n",
              "    </tr>\n",
              "    <tr>\n",
              "      <th>5</th>\n",
              "      <td>Unrated</td>\n",
              "      <td>2</td>\n",
              "    </tr>\n",
              "  </tbody>\n",
              "</table>\n",
              "</div>\n",
              "      <button class=\"colab-df-convert\" onclick=\"convertToInteractive('df-aa23d2e9-af3d-44d9-ae0c-bcd55c5e389c')\"\n",
              "              title=\"Convert this dataframe to an interactive table.\"\n",
              "              style=\"display:none;\">\n",
              "        \n",
              "  <svg xmlns=\"http://www.w3.org/2000/svg\" height=\"24px\"viewBox=\"0 0 24 24\"\n",
              "       width=\"24px\">\n",
              "    <path d=\"M0 0h24v24H0V0z\" fill=\"none\"/>\n",
              "    <path d=\"M18.56 5.44l.94 2.06.94-2.06 2.06-.94-2.06-.94-.94-2.06-.94 2.06-2.06.94zm-11 1L8.5 8.5l.94-2.06 2.06-.94-2.06-.94L8.5 2.5l-.94 2.06-2.06.94zm10 10l.94 2.06.94-2.06 2.06-.94-2.06-.94-.94-2.06-.94 2.06-2.06.94z\"/><path d=\"M17.41 7.96l-1.37-1.37c-.4-.4-.92-.59-1.43-.59-.52 0-1.04.2-1.43.59L10.3 9.45l-7.72 7.72c-.78.78-.78 2.05 0 2.83L4 21.41c.39.39.9.59 1.41.59.51 0 1.02-.2 1.41-.59l7.78-7.78 2.81-2.81c.8-.78.8-2.07 0-2.86zM5.41 20L4 18.59l7.72-7.72 1.47 1.35L5.41 20z\"/>\n",
              "  </svg>\n",
              "      </button>\n",
              "      \n",
              "  <style>\n",
              "    .colab-df-container {\n",
              "      display:flex;\n",
              "      flex-wrap:wrap;\n",
              "      gap: 12px;\n",
              "    }\n",
              "\n",
              "    .colab-df-convert {\n",
              "      background-color: #E8F0FE;\n",
              "      border: none;\n",
              "      border-radius: 50%;\n",
              "      cursor: pointer;\n",
              "      display: none;\n",
              "      fill: #1967D2;\n",
              "      height: 32px;\n",
              "      padding: 0 0 0 0;\n",
              "      width: 32px;\n",
              "    }\n",
              "\n",
              "    .colab-df-convert:hover {\n",
              "      background-color: #E2EBFA;\n",
              "      box-shadow: 0px 1px 2px rgba(60, 64, 67, 0.3), 0px 1px 3px 1px rgba(60, 64, 67, 0.15);\n",
              "      fill: #174EA6;\n",
              "    }\n",
              "\n",
              "    [theme=dark] .colab-df-convert {\n",
              "      background-color: #3B4455;\n",
              "      fill: #D2E3FC;\n",
              "    }\n",
              "\n",
              "    [theme=dark] .colab-df-convert:hover {\n",
              "      background-color: #434B5C;\n",
              "      box-shadow: 0px 1px 3px 1px rgba(0, 0, 0, 0.15);\n",
              "      filter: drop-shadow(0px 1px 2px rgba(0, 0, 0, 0.3));\n",
              "      fill: #FFFFFF;\n",
              "    }\n",
              "  </style>\n",
              "\n",
              "      <script>\n",
              "        const buttonEl =\n",
              "          document.querySelector('#df-aa23d2e9-af3d-44d9-ae0c-bcd55c5e389c button.colab-df-convert');\n",
              "        buttonEl.style.display =\n",
              "          google.colab.kernel.accessAllowed ? 'block' : 'none';\n",
              "\n",
              "        async function convertToInteractive(key) {\n",
              "          const element = document.querySelector('#df-aa23d2e9-af3d-44d9-ae0c-bcd55c5e389c');\n",
              "          const dataTable =\n",
              "            await google.colab.kernel.invokeFunction('convertToInteractive',\n",
              "                                                     [key], {});\n",
              "          if (!dataTable) return;\n",
              "\n",
              "          const docLinkHtml = 'Like what you see? Visit the ' +\n",
              "            '<a target=\"_blank\" href=https://colab.research.google.com/notebooks/data_table.ipynb>data table notebook</a>'\n",
              "            + ' to learn more about interactive tables.';\n",
              "          element.innerHTML = '';\n",
              "          dataTable['output_type'] = 'display_data';\n",
              "          await google.colab.output.renderOutput(dataTable, element);\n",
              "          const docLink = document.createElement('div');\n",
              "          docLink.innerHTML = docLinkHtml;\n",
              "          element.appendChild(docLink);\n",
              "        }\n",
              "      </script>\n",
              "    </div>\n",
              "  </div>\n",
              "  "
            ]
          },
          "metadata": {},
          "execution_count": 40
        }
      ]
    },
    {
      "cell_type": "markdown",
      "source": [
        "#### Chart - 10"
      ],
      "metadata": {
        "id": "ptuq6orZGEXi"
      }
    },
    {
      "cell_type": "code",
      "source": [
        "# bar plot of content rating\n",
        "sns.barplot(x='Age_group',y='Content Rating',data=age_rating)\n",
        "plt.title(\"Barplot of Content Rating \",fontsize=20)\n",
        "plt.ylabel(\"No. of apps\", fontsize= 15)\n",
        "plt.xlabel(\"Age group\", fontsize= 15)\n",
        "plt.xticks(rotation=90)\n",
        "plt.show()"
      ],
      "metadata": {
        "colab": {
          "base_uri": "https://localhost:8080/",
          "height": 375
        },
        "id": "qnEMs3Tr7jck",
        "outputId": "99452f48-b676-4f88-e4e1-7e6c203753e2"
      },
      "execution_count": null,
      "outputs": [
        {
          "output_type": "display_data",
          "data": {
            "text/plain": [
              "<Figure size 432x288 with 1 Axes>"
            ],
            "image/png": "[encoded data removed]"
          },
          "metadata": {
            "needs_background": "light"
          }
        }
      ]
    },
    {
      "cell_type": "markdown",
      "source": [
        "▶From above plot we can seen the most apps come under the Everyone content rating.content rating of adult and unrated apps are very less."
      ],
      "metadata": {
        "id": "ZW95aTMxBSGG"
      }
    },
    {
      "cell_type": "markdown",
      "source": [
        "#Size"
      ],
      "metadata": {
        "id": "uNFNvd5Yvf1p"
      }
    },
    {
      "cell_type": "markdown",
      "source": [
        "#### Chart - 11"
      ],
      "metadata": {
        "id": "si50BnthGIpM"
      }
    },
    {
      "cell_type": "code",
      "source": [
        "# box plot for checking the size variation\n",
        "df['Size']\n",
        "plt.figure(figsize=(10,5))\n",
        "plt.xlabel(\"Size(in MB)\",size=20)\n",
        "plt.ylabel(\"No of apps-------\",size=20)\n",
        "plt.grid()\n",
        "size_distribution_graph = sns.boxplot(df['Size'], color=\"maroon\")\n",
        "plt.title('Average size',size = 25)\n",
        "plt.show()\n"
      ],
      "metadata": {
        "colab": {
          "base_uri": "https://localhost:8080/",
          "height": 423
        },
        "id": "HD9UKqx3eXTh",
        "outputId": "20799071-fb8e-4452-a6f6-b9ec603315b8"
      },
      "execution_count": null,
      "outputs": [
        {
          "output_type": "stream",
          "name": "stderr",
          "text": [
            "/usr/local/lib/python3.8/dist-packages/seaborn/_decorators.py:36: FutureWarning: Pass the following variable as a keyword arg: x. From version 0.12, the only valid positional argument will be `data`, and passing other arguments without an explicit keyword will result in an error or misinterpretation.\n",
            "  warnings.warn(\n"
          ]
        },
        {
          "output_type": "display_data",
          "data": {
            "text/plain": [
              "<Figure size 720x360 with 1 Axes>"
            ],
            "image/png": "[encoded data removed]"
          },
          "metadata": {
            "needs_background": "light"
          }
        }
      ]
    },
    {
      "cell_type": "markdown",
      "source": [
        "▶ By above box plot we observ that almost 50% apps size lies between 5 MB to 30 MB. some app are also present which size grater than the 70 MB."
      ],
      "metadata": {
        "id": "1oqzF629yXof"
      }
    },
    {
      "cell_type": "markdown",
      "source": [
        "#**Let's Dive Into The User Reviews Data**\n"
      ],
      "metadata": {
        "id": "_L2M6k-y0T-n"
      }
    },
    {
      "cell_type": "code",
      "source": [
        "# for top five row of data set\n",
        "df1.head()"
      ],
      "metadata": {
        "colab": {
          "base_uri": "https://localhost:8080/",
          "height": 206
        },
        "id": "_kHwNI5f0sUJ",
        "outputId": "d4de9f9d-65c1-4804-d3dd-03d3bde18cb3"
      },
      "execution_count": null,
      "outputs": [
        {
          "output_type": "execute_result",
          "data": {
            "text/plain": [
              "                     App                                  Translated_Review  \\\n",
              "0  10 Best Foods for You  I like eat delicious food. That's I'm cooking ...   \n",
              "1  10 Best Foods for You    This help eating healthy exercise regular basis   \n",
              "2  10 Best Foods for You                                                NaN   \n",
              "3  10 Best Foods for You         Works great especially going grocery store   \n",
              "4  10 Best Foods for You                                       Best idea us   \n",
              "\n",
              "  Sentiment  Sentiment_Polarity  Sentiment_Subjectivity  \n",
              "0  Positive                1.00                0.533333  \n",
              "1  Positive                0.25                0.288462  \n",
              "2       NaN                 NaN                     NaN  \n",
              "3  Positive                0.40                0.875000  \n",
              "4  Positive                1.00                0.300000  "
            ],
            "text/html": [
              "\n",
              "  <div id=\"df-f6273147-4566-42fb-b268-72e88305a401\">\n",
              "    <div class=\"colab-df-container\">\n",
              "      <div>\n",
              "<style scoped>\n",
              "    .dataframe tbody tr th:only-of-type {\n",
              "        vertical-align: middle;\n",
              "    }\n",
              "\n",
              "    .dataframe tbody tr th {\n",
              "        vertical-align: top;\n",
              "    }\n",
              "\n",
              "    .dataframe thead th {\n",
              "        text-align: right;\n",
              "    }\n",
              "</style>\n",
              "<table border=\"1\" class=\"dataframe\">\n",
              "  <thead>\n",
              "    <tr style=\"text-align: right;\">\n",
              "      <th></th>\n",
              "      <th>App</th>\n",
              "      <th>Translated_Review</th>\n",
              "      <th>Sentiment</th>\n",
              "      <th>Sentiment_Polarity</th>\n",
              "      <th>Sentiment_Subjectivity</th>\n",
              "    </tr>\n",
              "  </thead>\n",
              "  <tbody>\n",
              "    <tr>\n",
              "      <th>0</th>\n",
              "      <td>10 Best Foods for You</td>\n",
              "      <td>I like eat delicious food. That's I'm cooking ...</td>\n",
              "      <td>Positive</td>\n",
              "      <td>1.00</td>\n",
              "      <td>0.533333</td>\n",
              "    </tr>\n",
              "    <tr>\n",
              "      <th>1</th>\n",
              "      <td>10 Best Foods for You</td>\n",
              "      <td>This help eating healthy exercise regular basis</td>\n",
              "      <td>Positive</td>\n",
              "      <td>0.25</td>\n",
              "      <td>0.288462</td>\n",
              "    </tr>\n",
              "    <tr>\n",
              "      <th>2</th>\n",
              "      <td>10 Best Foods for You</td>\n",
              "      <td>NaN</td>\n",
              "      <td>NaN</td>\n",
              "      <td>NaN</td>\n",
              "      <td>NaN</td>\n",
              "    </tr>\n",
              "    <tr>\n",
              "      <th>3</th>\n",
              "      <td>10 Best Foods for You</td>\n",
              "      <td>Works great especially going grocery store</td>\n",
              "      <td>Positive</td>\n",
              "      <td>0.40</td>\n",
              "      <td>0.875000</td>\n",
              "    </tr>\n",
              "    <tr>\n",
              "      <th>4</th>\n",
              "      <td>10 Best Foods for You</td>\n",
              "      <td>Best idea us</td>\n",
              "      <td>Positive</td>\n",
              "      <td>1.00</td>\n",
              "      <td>0.300000</td>\n",
              "    </tr>\n",
              "  </tbody>\n",
              "</table>\n",
              "</div>\n",
              "      <button class=\"colab-df-convert\" onclick=\"convertToInteractive('df-f6273147-4566-42fb-b268-72e88305a401')\"\n",
              "              title=\"Convert this dataframe to an interactive table.\"\n",
              "              style=\"display:none;\">\n",
              "        \n",
              "  <svg xmlns=\"http://www.w3.org/2000/svg\" height=\"24px\"viewBox=\"0 0 24 24\"\n",
              "       width=\"24px\">\n",
              "    <path d=\"M0 0h24v24H0V0z\" fill=\"none\"/>\n",
              "    <path d=\"M18.56 5.44l.94 2.06.94-2.06 2.06-.94-2.06-.94-.94-2.06-.94 2.06-2.06.94zm-11 1L8.5 8.5l.94-2.06 2.06-.94-2.06-.94L8.5 2.5l-.94 2.06-2.06.94zm10 10l.94 2.06.94-2.06 2.06-.94-2.06-.94-.94-2.06-.94 2.06-2.06.94z\"/><path d=\"M17.41 7.96l-1.37-1.37c-.4-.4-.92-.59-1.43-.59-.52 0-1.04.2-1.43.59L10.3 9.45l-7.72 7.72c-.78.78-.78 2.05 0 2.83L4 21.41c.39.39.9.59 1.41.59.51 0 1.02-.2 1.41-.59l7.78-7.78 2.81-2.81c.8-.78.8-2.07 0-2.86zM5.41 20L4 18.59l7.72-7.72 1.47 1.35L5.41 20z\"/>\n",
              "  </svg>\n",
              "      </button>\n",
              "      \n",
              "  <style>\n",
              "    .colab-df-container {\n",
              "      display:flex;\n",
              "      flex-wrap:wrap;\n",
              "      gap: 12px;\n",
              "    }\n",
              "\n",
              "    .colab-df-convert {\n",
              "      background-color: #E8F0FE;\n",
              "      border: none;\n",
              "      border-radius: 50%;\n",
              "      cursor: pointer;\n",
              "      display: none;\n",
              "      fill: #1967D2;\n",
              "      height: 32px;\n",
              "      padding: 0 0 0 0;\n",
              "      width: 32px;\n",
              "    }\n",
              "\n",
              "    .colab-df-convert:hover {\n",
              "      background-color: #E2EBFA;\n",
              "      box-shadow: 0px 1px 2px rgba(60, 64, 67, 0.3), 0px 1px 3px 1px rgba(60, 64, 67, 0.15);\n",
              "      fill: #174EA6;\n",
              "    }\n",
              "\n",
              "    [theme=dark] .colab-df-convert {\n",
              "      background-color: #3B4455;\n",
              "      fill: #D2E3FC;\n",
              "    }\n",
              "\n",
              "    [theme=dark] .colab-df-convert:hover {\n",
              "      background-color: #434B5C;\n",
              "      box-shadow: 0px 1px 3px 1px rgba(0, 0, 0, 0.15);\n",
              "      filter: drop-shadow(0px 1px 2px rgba(0, 0, 0, 0.3));\n",
              "      fill: #FFFFFF;\n",
              "    }\n",
              "  </style>\n",
              "\n",
              "      <script>\n",
              "        const buttonEl =\n",
              "          document.querySelector('#df-f6273147-4566-42fb-b268-72e88305a401 button.colab-df-convert');\n",
              "        buttonEl.style.display =\n",
              "          google.colab.kernel.accessAllowed ? 'block' : 'none';\n",
              "\n",
              "        async function convertToInteractive(key) {\n",
              "          const element = document.querySelector('#df-f6273147-4566-42fb-b268-72e88305a401');\n",
              "          const dataTable =\n",
              "            await google.colab.kernel.invokeFunction('convertToInteractive',\n",
              "                                                     [key], {});\n",
              "          if (!dataTable) return;\n",
              "\n",
              "          const docLinkHtml = 'Like what you see? Visit the ' +\n",
              "            '<a target=\"_blank\" href=https://colab.research.google.com/notebooks/data_table.ipynb>data table notebook</a>'\n",
              "            + ' to learn more about interactive tables.';\n",
              "          element.innerHTML = '';\n",
              "          dataTable['output_type'] = 'display_data';\n",
              "          await google.colab.output.renderOutput(dataTable, element);\n",
              "          const docLink = document.createElement('div');\n",
              "          docLink.innerHTML = docLinkHtml;\n",
              "          element.appendChild(docLink);\n",
              "        }\n",
              "      </script>\n",
              "    </div>\n",
              "  </div>\n",
              "  "
            ]
          },
          "metadata": {},
          "execution_count": 34
        }
      ]
    },
    {
      "cell_type": "code",
      "source": [
        "# for basic information about our dataset\n",
        "df1.info()"
      ],
      "metadata": {
        "colab": {
          "base_uri": "https://localhost:8080/"
        },
        "id": "8KXOWCkY1OPY",
        "outputId": "57c6dcc1-2048-47ba-d8af-c75b94a99c5d"
      },
      "execution_count": null,
      "outputs": [
        {
          "output_type": "stream",
          "name": "stdout",
          "text": [
            "<class 'pandas.core.frame.DataFrame'>\n",
            "RangeIndex: 64295 entries, 0 to 64294\n",
            "Data columns (total 5 columns):\n",
            " #   Column                  Non-Null Count  Dtype  \n",
            "---  ------                  --------------  -----  \n",
            " 0   App                     64295 non-null  object \n",
            " 1   Translated_Review       37427 non-null  object \n",
            " 2   Sentiment               37432 non-null  object \n",
            " 3   Sentiment_Polarity      37432 non-null  float64\n",
            " 4   Sentiment_Subjectivity  37432 non-null  float64\n",
            "dtypes: float64(2), object(3)\n",
            "memory usage: 2.5+ MB\n"
          ]
        }
      ]
    },
    {
      "cell_type": "code",
      "source": [
        "# for checking null value\n",
        "df1.isnull().sum()"
      ],
      "metadata": {
        "colab": {
          "base_uri": "https://localhost:8080/"
        },
        "id": "kwt-ZUO72iVz",
        "outputId": "5c130768-b661-494f-d4f0-31481c52c867"
      },
      "execution_count": null,
      "outputs": [
        {
          "output_type": "execute_result",
          "data": {
            "text/plain": [
              "App                           0\n",
              "Translated_Review         26868\n",
              "Sentiment                 26863\n",
              "Sentiment_Polarity        26863\n",
              "Sentiment_Subjectivity    26863\n",
              "dtype: int64"
            ]
          },
          "metadata": {},
          "execution_count": 87
        }
      ]
    },
    {
      "cell_type": "code",
      "source": [
        "# dropping null values of Translated reviews column\n",
        "df1.dropna(subset=['Translated_Review'],inplace=True)"
      ],
      "metadata": {
        "id": "U4lxMtAd3Inu"
      },
      "execution_count": null,
      "outputs": []
    },
    {
      "cell_type": "code",
      "source": [
        "df1.info()"
      ],
      "metadata": {
        "colab": {
          "base_uri": "https://localhost:8080/"
        },
        "id": "XLJf7m_C367l",
        "outputId": "d8b50069-e01b-4b11-a0cc-ee1a32e1cbdb"
      },
      "execution_count": null,
      "outputs": [
        {
          "output_type": "stream",
          "name": "stdout",
          "text": [
            "<class 'pandas.core.frame.DataFrame'>\n",
            "Int64Index: 37427 entries, 0 to 64230\n",
            "Data columns (total 5 columns):\n",
            " #   Column                  Non-Null Count  Dtype  \n",
            "---  ------                  --------------  -----  \n",
            " 0   App                     37427 non-null  object \n",
            " 1   Translated_Review       37427 non-null  object \n",
            " 2   Sentiment               37427 non-null  object \n",
            " 3   Sentiment_Polarity      37427 non-null  float64\n",
            " 4   Sentiment_Subjectivity  37427 non-null  float64\n",
            "dtypes: float64(2), object(3)\n",
            "memory usage: 1.7+ MB\n"
          ]
        }
      ]
    },
    {
      "cell_type": "markdown",
      "source": [
        "#**Lets merge both the DataFrame**"
      ],
      "metadata": {
        "id": "JwQLjtQV40R_"
      }
    },
    {
      "cell_type": "code",
      "source": [
        "# merge the both data set\n",
        "merged_data=pd.merge(df,df1,on='App')"
      ],
      "metadata": {
        "id": "4Dis3XOG5LSl"
      },
      "execution_count": null,
      "outputs": []
    },
    {
      "cell_type": "code",
      "source": [
        "# checking for unique value in merge data frame in app column\n",
        "merged_data['App'].nunique()"
      ],
      "metadata": {
        "colab": {
          "base_uri": "https://localhost:8080/"
        },
        "id": "kStljELT5lme",
        "outputId": "e162039c-c636-4545-c197-a399b1212f2e"
      },
      "execution_count": null,
      "outputs": [
        {
          "output_type": "execute_result",
          "data": {
            "text/plain": [
              "569"
            ]
          },
          "metadata": {},
          "execution_count": 37
        }
      ]
    },
    {
      "cell_type": "code",
      "source": [
        "# for counting sentiment\n",
        "sentiment_details=merged_data.Sentiment.value_counts().reset_index().rename(columns={'index':'sentiment','Sentiment':'count'}) \n",
        "sentiment_details\n"
      ],
      "metadata": {
        "colab": {
          "base_uri": "https://localhost:8080/",
          "height": 143
        },
        "id": "Qi781b4a6OET",
        "outputId": "39f51ec2-9bcf-4f1a-968c-bfa86af57de9"
      },
      "execution_count": null,
      "outputs": [
        {
          "output_type": "execute_result",
          "data": {
            "text/plain": [
              "  sentiment  count\n",
              "0  Positive  28169\n",
              "1  Negative  11843\n",
              "2   Neutral   5034"
            ],
            "text/html": [
              "\n",
              "  <div id=\"df-ce30e65d-2040-49e4-8603-1f185b5854db\">\n",
              "    <div class=\"colab-df-container\">\n",
              "      <div>\n",
              "<style scoped>\n",
              "    .dataframe tbody tr th:only-of-type {\n",
              "        vertical-align: middle;\n",
              "    }\n",
              "\n",
              "    .dataframe tbody tr th {\n",
              "        vertical-align: top;\n",
              "    }\n",
              "\n",
              "    .dataframe thead th {\n",
              "        text-align: right;\n",
              "    }\n",
              "</style>\n",
              "<table border=\"1\" class=\"dataframe\">\n",
              "  <thead>\n",
              "    <tr style=\"text-align: right;\">\n",
              "      <th></th>\n",
              "      <th>sentiment</th>\n",
              "      <th>count</th>\n",
              "    </tr>\n",
              "  </thead>\n",
              "  <tbody>\n",
              "    <tr>\n",
              "      <th>0</th>\n",
              "      <td>Positive</td>\n",
              "      <td>28169</td>\n",
              "    </tr>\n",
              "    <tr>\n",
              "      <th>1</th>\n",
              "      <td>Negative</td>\n",
              "      <td>11843</td>\n",
              "    </tr>\n",
              "    <tr>\n",
              "      <th>2</th>\n",
              "      <td>Neutral</td>\n",
              "      <td>5034</td>\n",
              "    </tr>\n",
              "  </tbody>\n",
              "</table>\n",
              "</div>\n",
              "      <button class=\"colab-df-convert\" onclick=\"convertToInteractive('df-ce30e65d-2040-49e4-8603-1f185b5854db')\"\n",
              "              title=\"Convert this dataframe to an interactive table.\"\n",
              "              style=\"display:none;\">\n",
              "        \n",
              "  <svg xmlns=\"http://www.w3.org/2000/svg\" height=\"24px\"viewBox=\"0 0 24 24\"\n",
              "       width=\"24px\">\n",
              "    <path d=\"M0 0h24v24H0V0z\" fill=\"none\"/>\n",
              "    <path d=\"M18.56 5.44l.94 2.06.94-2.06 2.06-.94-2.06-.94-.94-2.06-.94 2.06-2.06.94zm-11 1L8.5 8.5l.94-2.06 2.06-.94-2.06-.94L8.5 2.5l-.94 2.06-2.06.94zm10 10l.94 2.06.94-2.06 2.06-.94-2.06-.94-.94-2.06-.94 2.06-2.06.94z\"/><path d=\"M17.41 7.96l-1.37-1.37c-.4-.4-.92-.59-1.43-.59-.52 0-1.04.2-1.43.59L10.3 9.45l-7.72 7.72c-.78.78-.78 2.05 0 2.83L4 21.41c.39.39.9.59 1.41.59.51 0 1.02-.2 1.41-.59l7.78-7.78 2.81-2.81c.8-.78.8-2.07 0-2.86zM5.41 20L4 18.59l7.72-7.72 1.47 1.35L5.41 20z\"/>\n",
              "  </svg>\n",
              "      </button>\n",
              "      \n",
              "  <style>\n",
              "    .colab-df-container {\n",
              "      display:flex;\n",
              "      flex-wrap:wrap;\n",
              "      gap: 12px;\n",
              "    }\n",
              "\n",
              "    .colab-df-convert {\n",
              "      background-color: #E8F0FE;\n",
              "      border: none;\n",
              "      border-radius: 50%;\n",
              "      cursor: pointer;\n",
              "      display: none;\n",
              "      fill: #1967D2;\n",
              "      height: 32px;\n",
              "      padding: 0 0 0 0;\n",
              "      width: 32px;\n",
              "    }\n",
              "\n",
              "    .colab-df-convert:hover {\n",
              "      background-color: #E2EBFA;\n",
              "      box-shadow: 0px 1px 2px rgba(60, 64, 67, 0.3), 0px 1px 3px 1px rgba(60, 64, 67, 0.15);\n",
              "      fill: #174EA6;\n",
              "    }\n",
              "\n",
              "    [theme=dark] .colab-df-convert {\n",
              "      background-color: #3B4455;\n",
              "      fill: #D2E3FC;\n",
              "    }\n",
              "\n",
              "    [theme=dark] .colab-df-convert:hover {\n",
              "      background-color: #434B5C;\n",
              "      box-shadow: 0px 1px 3px 1px rgba(0, 0, 0, 0.15);\n",
              "      filter: drop-shadow(0px 1px 2px rgba(0, 0, 0, 0.3));\n",
              "      fill: #FFFFFF;\n",
              "    }\n",
              "  </style>\n",
              "\n",
              "      <script>\n",
              "        const buttonEl =\n",
              "          document.querySelector('#df-ce30e65d-2040-49e4-8603-1f185b5854db button.colab-df-convert');\n",
              "        buttonEl.style.display =\n",
              "          google.colab.kernel.accessAllowed ? 'block' : 'none';\n",
              "\n",
              "        async function convertToInteractive(key) {\n",
              "          const element = document.querySelector('#df-ce30e65d-2040-49e4-8603-1f185b5854db');\n",
              "          const dataTable =\n",
              "            await google.colab.kernel.invokeFunction('convertToInteractive',\n",
              "                                                     [key], {});\n",
              "          if (!dataTable) return;\n",
              "\n",
              "          const docLinkHtml = 'Like what you see? Visit the ' +\n",
              "            '<a target=\"_blank\" href=https://colab.research.google.com/notebooks/data_table.ipynb>data table notebook</a>'\n",
              "            + ' to learn more about interactive tables.';\n",
              "          element.innerHTML = '';\n",
              "          dataTable['output_type'] = 'display_data';\n",
              "          await google.colab.output.renderOutput(dataTable, element);\n",
              "          const docLink = document.createElement('div');\n",
              "          docLink.innerHTML = docLinkHtml;\n",
              "          element.appendChild(docLink);\n",
              "        }\n",
              "      </script>\n",
              "    </div>\n",
              "  </div>\n",
              "  "
            ]
          },
          "metadata": {},
          "execution_count": 38
        }
      ]
    },
    {
      "cell_type": "markdown",
      "source": [
        "#### Chart - 12"
      ],
      "metadata": {
        "id": "VKWjThjaGW-e"
      }
    },
    {
      "cell_type": "code",
      "source": [
        "# ploting pie chart for sentiment percentage show\n",
        "plt.figure(figsize=(10,8))\n",
        "c=['pink','blue','maroon']\n",
        "exp=[0,0.1,0.2]\n",
        "plt.pie(sentiment_details['count'],labels=sentiment_details['sentiment'],autopct='%2.0f%%',explode=exp,colors=c,shadow=True)\n",
        "plt.title('sentiment details',fontsize=25)\n",
        "plt.show()"
      ],
      "metadata": {
        "colab": {
          "base_uri": "https://localhost:8080/",
          "height": 491
        },
        "id": "qO0vpF007trW",
        "outputId": "6fa033ce-d933-4547-ab44-cb257c1909ff"
      },
      "execution_count": null,
      "outputs": [
        {
          "output_type": "display_data",
          "data": {
            "text/plain": [
              "<Figure size 720x576 with 1 Axes>"
            ],
            "image/png": "[encoded data removed]"
          },
          "metadata": {}
        }
      ]
    },
    {
      "cell_type": "markdown",
      "source": [
        "▶By above pie chart we can say that positive reviews is high ie 63%"
      ],
      "metadata": {
        "id": "Wq8ILoR_-rcG"
      }
    },
    {
      "cell_type": "markdown",
      "source": [
        "#Analysing the user Subjectivity\n"
      ],
      "metadata": {
        "id": "Kq4RVmqnC0ZL"
      }
    },
    {
      "cell_type": "markdown",
      "source": [
        "#### Chart - 13"
      ],
      "metadata": {
        "id": "tSoDnqXRGaSL"
      }
    },
    {
      "cell_type": "code",
      "source": [
        "#Plotting the distribution of Subjectivity\n",
        "plt.figure(figsize=(15,5))\n",
        "sentiment_subjectivity_df = merged_data['Sentiment_Subjectivity']\n",
        "sns.distplot(sentiment_subjectivity_df, hist=True)\n",
        "plt.xlabel(\"Subjectivity\",size=15)\n",
        "plt.title('Distribution of Subjectivity',size=20)\n",
        "plt.show()\n"
      ],
      "metadata": {
        "colab": {
          "base_uri": "https://localhost:8080/",
          "height": 415
        },
        "id": "gGB4ioD1Bf33",
        "outputId": "6c01eb57-d118-45a2-f7d1-ffc142873827"
      },
      "execution_count": null,
      "outputs": [
        {
          "output_type": "stream",
          "name": "stderr",
          "text": [
            "/usr/local/lib/python3.8/dist-packages/seaborn/distributions.py:2619: FutureWarning: `distplot` is a deprecated function and will be removed in a future version. Please adapt your code to use either `displot` (a figure-level function with similar flexibility) or `histplot` (an axes-level function for histograms).\n",
            "  warnings.warn(msg, FutureWarning)\n"
          ]
        },
        {
          "output_type": "display_data",
          "data": {
            "text/plain": [
              "<Figure size 1080x360 with 1 Axes>"
            ],
            "image/png": "[encoded data removed]"
          },
          "metadata": {
            "needs_background": "light"
          }
        }
      ]
    },
    {
      "cell_type": "markdown",
      "source": [
        "▶The maximum number of sentiment subjectivity lies between 0.4 to 0.7. From this we can conclude that maximum number of users give reviews to the applications, according to their experience."
      ],
      "metadata": {
        "id": "JlWI3UrbC9K8"
      }
    },
    {
      "cell_type": "markdown",
      "source": [
        "## **5. Solution to Business Objective**"
      ],
      "metadata": {
        "id": "wAE0_ilHJV0K"
      }
    },
    {
      "cell_type": "markdown",
      "source": [
        "After analyzing a dataset of app data from the Google Play Store, there are a number of potential suggestions that you could make to a client, depending on the specific goals and objectives of the analysis. Here are a few examples of potential suggestions that you might make:\n",
        "\n",
        "Identify the most popular app categories and consider developing apps in those categories to increase the chances of success.\n",
        "\n",
        "Look for opportunities to differentiate the app from competitors by offering unique features or targeting a specific niche market.\n",
        "\n",
        "Consider using data on user reviews and ratings to identify areas for improvement in the app.\n",
        "\n",
        "Analyze the pricing strategies of successful apps and consider adjusting the pricing of the app accordingly.\n"
      ],
      "metadata": {
        "id": "-IEoMGHyIPsP"
      }
    },
    {
      "cell_type": "markdown",
      "source": [
        "#**Conclusion**"
      ],
      "metadata": {
        "id": "wCm_9VoHGn7N"
      }
    },
    {
      "cell_type": "markdown",
      "source": [
        "\n",
        "Joining the dots from given datasets, we came across a lot of information.   After analysis and visualization, information can be classified into beneficial for customers and beneficial for developers. We discovered the top app categories, the most popular app categories, the proportion of free and paid apps, and the average app size. This information enables customers and users to make informed download decisions.\n",
        "\n",
        "Game category has the highest engagement\n",
        "\n",
        "Thus, if fast growth is expected then introducing good quality game app of suitable size can work as a charm."
      ],
      "metadata": {
        "id": "BMvindMrjtTJ"
      }
    },
    {
      "cell_type": "markdown",
      "source": [
        "* Most reviews are for the GAME category.\n",
        "\n",
        "* Most installed app from the GAME and FAMILY category.\n",
        "\n",
        "* The price of FINANCE and LIFE STYLE category are high.\n",
        "\n",
        "* Top installed game are SUBWAY SURFERS, CANDY CRUSH SAGA,TEMPLE RUN 2 and POU.\n",
        "\n",
        "* Most number of apps belong to GAME and FAMILY categories.\n",
        "\n",
        "* Free Apps are high compare to paid apps.\n",
        "\n",
        "* Mostly app are comming under the EVERY ONE content rating.\n"
      ],
      "metadata": {
        "id": "I2zwgJWJxplo"
      }
    },
    {
      "cell_type": "markdown",
      "source": [
        "![thank u.jpg](data:image/jpeg;base64,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)"
      ],
      "metadata": {
        "id": "SFz4kunl1CJt"
      }
    }
  ],
  "metadata": {
    "accelerator": "GPU",
    "colab": {
      "provenance": [],
      "include_colab_link": true
    },
    "kernelspec": {
      "display_name": "Python 3",
      "name": "python3"
    }
  },
  "nbformat": 4,
  "nbformat_minor": 0
}